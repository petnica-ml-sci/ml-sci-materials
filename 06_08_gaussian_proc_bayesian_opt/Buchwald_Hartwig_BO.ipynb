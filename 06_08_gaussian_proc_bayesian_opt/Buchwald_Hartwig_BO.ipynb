{
  "cells": [
    {
      "cell_type": "markdown",
      "metadata": {
        "id": "iQQG8WV_-gYU"
      },
      "source": [
        "<a href=\"https://colab.research.google.com/github/schwallergroup/ai4chem_course/blob/main/notebooks/10%20-%20Bayesian%20optimization/Buchwald-Hartwig-BO.ipynb\" target=\"_parent\"><img src=\"https://colab.research.google.com/assets/colab-badge.svg\" alt=\"Open In Colab\"/></a>\n"
      ]
    },
    {
      "cell_type": "code",
      "execution_count": 1,
      "metadata": {
        "id": "orcbbUc_-gYX",
        "colab": {
          "base_uri": "https://localhost:8080/"
        },
        "outputId": "7ee30f2b-839a-4417-f428-106d557a9122"
      },
      "outputs": [
        {
          "output_type": "stream",
          "name": "stdout",
          "text": [
            "Requirement already satisfied: scikit-learn-extra in /usr/local/lib/python3.11/dist-packages (0.3.0)\n",
            "Requirement already satisfied: pytorch_lightning in /usr/local/lib/python3.11/dist-packages (2.5.2)\n",
            "Requirement already satisfied: transformers in /usr/local/lib/python3.11/dist-packages (4.54.0)\n",
            "Requirement already satisfied: botorch in /usr/local/lib/python3.11/dist-packages (0.14.0)\n",
            "Requirement already satisfied: gpytorch in /usr/local/lib/python3.11/dist-packages (1.14)\n",
            "Requirement already satisfied: rdkit in /usr/local/lib/python3.11/dist-packages (2025.3.5)\n",
            "Requirement already satisfied: numpy==1.26 in /usr/local/lib/python3.11/dist-packages (1.26.0)\n",
            "Requirement already satisfied: scipy>=0.19.1 in /usr/local/lib/python3.11/dist-packages (from scikit-learn-extra) (1.16.0)\n",
            "Requirement already satisfied: scikit-learn>=0.23.0 in /usr/local/lib/python3.11/dist-packages (from scikit-learn-extra) (1.6.1)\n",
            "Requirement already satisfied: torch>=2.1.0 in /usr/local/lib/python3.11/dist-packages (from pytorch_lightning) (2.6.0+cu124)\n",
            "Requirement already satisfied: tqdm>=4.57.0 in /usr/local/lib/python3.11/dist-packages (from pytorch_lightning) (4.67.1)\n",
            "Requirement already satisfied: PyYAML>=5.4 in /usr/local/lib/python3.11/dist-packages (from pytorch_lightning) (6.0.2)\n",
            "Requirement already satisfied: fsspec>=2022.5.0 in /usr/local/lib/python3.11/dist-packages (from fsspec[http]>=2022.5.0->pytorch_lightning) (2025.3.0)\n",
            "Requirement already satisfied: torchmetrics>=0.7.0 in /usr/local/lib/python3.11/dist-packages (from pytorch_lightning) (1.8.0)\n",
            "Requirement already satisfied: packaging>=20.0 in /usr/local/lib/python3.11/dist-packages (from pytorch_lightning) (25.0)\n",
            "Requirement already satisfied: typing-extensions>=4.4.0 in /usr/local/lib/python3.11/dist-packages (from pytorch_lightning) (4.14.1)\n",
            "Requirement already satisfied: lightning-utilities>=0.10.0 in /usr/local/lib/python3.11/dist-packages (from pytorch_lightning) (0.15.1)\n",
            "Requirement already satisfied: filelock in /usr/local/lib/python3.11/dist-packages (from transformers) (3.18.0)\n",
            "Requirement already satisfied: huggingface-hub<1.0,>=0.34.0 in /usr/local/lib/python3.11/dist-packages (from transformers) (0.34.1)\n",
            "Requirement already satisfied: regex!=2019.12.17 in /usr/local/lib/python3.11/dist-packages (from transformers) (2024.11.6)\n",
            "Requirement already satisfied: requests in /usr/local/lib/python3.11/dist-packages (from transformers) (2.32.3)\n",
            "Requirement already satisfied: tokenizers<0.22,>=0.21 in /usr/local/lib/python3.11/dist-packages (from transformers) (0.21.2)\n",
            "Requirement already satisfied: safetensors>=0.4.3 in /usr/local/lib/python3.11/dist-packages (from transformers) (0.5.3)\n",
            "Requirement already satisfied: pyre_extensions in /usr/local/lib/python3.11/dist-packages (from botorch) (0.0.32)\n",
            "Requirement already satisfied: linear_operator==0.6 in /usr/local/lib/python3.11/dist-packages (from botorch) (0.6)\n",
            "Requirement already satisfied: pyro-ppl>=1.8.4 in /usr/local/lib/python3.11/dist-packages (from botorch) (1.9.1)\n",
            "Requirement already satisfied: multipledispatch in /usr/local/lib/python3.11/dist-packages (from botorch) (1.0.0)\n",
            "Requirement already satisfied: threadpoolctl in /usr/local/lib/python3.11/dist-packages (from botorch) (3.6.0)\n",
            "Requirement already satisfied: jaxtyping in /usr/local/lib/python3.11/dist-packages (from gpytorch) (0.3.2)\n",
            "Requirement already satisfied: mpmath<=1.3,>=0.19 in /usr/local/lib/python3.11/dist-packages (from gpytorch) (1.3.0)\n",
            "Requirement already satisfied: Pillow in /usr/local/lib/python3.11/dist-packages (from rdkit) (11.3.0)\n",
            "Requirement already satisfied: aiohttp!=4.0.0a0,!=4.0.0a1 in /usr/local/lib/python3.11/dist-packages (from fsspec[http]>=2022.5.0->pytorch_lightning) (3.12.14)\n",
            "Requirement already satisfied: hf-xet<2.0.0,>=1.1.3 in /usr/local/lib/python3.11/dist-packages (from huggingface-hub<1.0,>=0.34.0->transformers) (1.1.5)\n",
            "Requirement already satisfied: setuptools in /usr/local/lib/python3.11/dist-packages (from lightning-utilities>=0.10.0->pytorch_lightning) (75.2.0)\n",
            "Requirement already satisfied: opt-einsum>=2.3.2 in /usr/local/lib/python3.11/dist-packages (from pyro-ppl>=1.8.4->botorch) (3.4.0)\n",
            "Requirement already satisfied: pyro-api>=0.1.1 in /usr/local/lib/python3.11/dist-packages (from pyro-ppl>=1.8.4->botorch) (0.1.2)\n",
            "Requirement already satisfied: joblib>=1.2.0 in /usr/local/lib/python3.11/dist-packages (from scikit-learn>=0.23.0->scikit-learn-extra) (1.5.1)\n",
            "Requirement already satisfied: networkx in /usr/local/lib/python3.11/dist-packages (from torch>=2.1.0->pytorch_lightning) (3.5)\n",
            "Requirement already satisfied: jinja2 in /usr/local/lib/python3.11/dist-packages (from torch>=2.1.0->pytorch_lightning) (3.1.6)\n",
            "Requirement already satisfied: nvidia-cuda-nvrtc-cu12==12.4.127 in /usr/local/lib/python3.11/dist-packages (from torch>=2.1.0->pytorch_lightning) (12.4.127)\n",
            "Requirement already satisfied: nvidia-cuda-runtime-cu12==12.4.127 in /usr/local/lib/python3.11/dist-packages (from torch>=2.1.0->pytorch_lightning) (12.4.127)\n",
            "Requirement already satisfied: nvidia-cuda-cupti-cu12==12.4.127 in /usr/local/lib/python3.11/dist-packages (from torch>=2.1.0->pytorch_lightning) (12.4.127)\n",
            "Requirement already satisfied: nvidia-cudnn-cu12==9.1.0.70 in /usr/local/lib/python3.11/dist-packages (from torch>=2.1.0->pytorch_lightning) (9.1.0.70)\n",
            "Requirement already satisfied: nvidia-cublas-cu12==12.4.5.8 in /usr/local/lib/python3.11/dist-packages (from torch>=2.1.0->pytorch_lightning) (12.4.5.8)\n",
            "Requirement already satisfied: nvidia-cufft-cu12==11.2.1.3 in /usr/local/lib/python3.11/dist-packages (from torch>=2.1.0->pytorch_lightning) (11.2.1.3)\n",
            "Requirement already satisfied: nvidia-curand-cu12==10.3.5.147 in /usr/local/lib/python3.11/dist-packages (from torch>=2.1.0->pytorch_lightning) (10.3.5.147)\n",
            "Requirement already satisfied: nvidia-cusolver-cu12==11.6.1.9 in /usr/local/lib/python3.11/dist-packages (from torch>=2.1.0->pytorch_lightning) (11.6.1.9)\n",
            "Requirement already satisfied: nvidia-cusparse-cu12==12.3.1.170 in /usr/local/lib/python3.11/dist-packages (from torch>=2.1.0->pytorch_lightning) (12.3.1.170)\n",
            "Requirement already satisfied: nvidia-cusparselt-cu12==0.6.2 in /usr/local/lib/python3.11/dist-packages (from torch>=2.1.0->pytorch_lightning) (0.6.2)\n",
            "Requirement already satisfied: nvidia-nccl-cu12==2.21.5 in /usr/local/lib/python3.11/dist-packages (from torch>=2.1.0->pytorch_lightning) (2.21.5)\n",
            "Requirement already satisfied: nvidia-nvtx-cu12==12.4.127 in /usr/local/lib/python3.11/dist-packages (from torch>=2.1.0->pytorch_lightning) (12.4.127)\n",
            "Requirement already satisfied: nvidia-nvjitlink-cu12==12.4.127 in /usr/local/lib/python3.11/dist-packages (from torch>=2.1.0->pytorch_lightning) (12.4.127)\n",
            "Requirement already satisfied: triton==3.2.0 in /usr/local/lib/python3.11/dist-packages (from torch>=2.1.0->pytorch_lightning) (3.2.0)\n",
            "Requirement already satisfied: sympy==1.13.1 in /usr/local/lib/python3.11/dist-packages (from torch>=2.1.0->pytorch_lightning) (1.13.1)\n",
            "Requirement already satisfied: wadler-lindig>=0.1.3 in /usr/local/lib/python3.11/dist-packages (from jaxtyping->gpytorch) (0.1.7)\n",
            "Requirement already satisfied: typing-inspect in /usr/local/lib/python3.11/dist-packages (from pyre_extensions->botorch) (0.9.0)\n",
            "Requirement already satisfied: charset-normalizer<4,>=2 in /usr/local/lib/python3.11/dist-packages (from requests->transformers) (3.4.2)\n",
            "Requirement already satisfied: idna<4,>=2.5 in /usr/local/lib/python3.11/dist-packages (from requests->transformers) (3.10)\n",
            "Requirement already satisfied: urllib3<3,>=1.21.1 in /usr/local/lib/python3.11/dist-packages (from requests->transformers) (2.5.0)\n",
            "Requirement already satisfied: certifi>=2017.4.17 in /usr/local/lib/python3.11/dist-packages (from requests->transformers) (2025.7.14)\n",
            "Requirement already satisfied: aiohappyeyeballs>=2.5.0 in /usr/local/lib/python3.11/dist-packages (from aiohttp!=4.0.0a0,!=4.0.0a1->fsspec[http]>=2022.5.0->pytorch_lightning) (2.6.1)\n",
            "Requirement already satisfied: aiosignal>=1.4.0 in /usr/local/lib/python3.11/dist-packages (from aiohttp!=4.0.0a0,!=4.0.0a1->fsspec[http]>=2022.5.0->pytorch_lightning) (1.4.0)\n",
            "Requirement already satisfied: attrs>=17.3.0 in /usr/local/lib/python3.11/dist-packages (from aiohttp!=4.0.0a0,!=4.0.0a1->fsspec[http]>=2022.5.0->pytorch_lightning) (25.3.0)\n",
            "Requirement already satisfied: frozenlist>=1.1.1 in /usr/local/lib/python3.11/dist-packages (from aiohttp!=4.0.0a0,!=4.0.0a1->fsspec[http]>=2022.5.0->pytorch_lightning) (1.7.0)\n",
            "Requirement already satisfied: multidict<7.0,>=4.5 in /usr/local/lib/python3.11/dist-packages (from aiohttp!=4.0.0a0,!=4.0.0a1->fsspec[http]>=2022.5.0->pytorch_lightning) (6.6.3)\n",
            "Requirement already satisfied: propcache>=0.2.0 in /usr/local/lib/python3.11/dist-packages (from aiohttp!=4.0.0a0,!=4.0.0a1->fsspec[http]>=2022.5.0->pytorch_lightning) (0.3.2)\n",
            "Requirement already satisfied: yarl<2.0,>=1.17.0 in /usr/local/lib/python3.11/dist-packages (from aiohttp!=4.0.0a0,!=4.0.0a1->fsspec[http]>=2022.5.0->pytorch_lightning) (1.20.1)\n",
            "Requirement already satisfied: MarkupSafe>=2.0 in /usr/local/lib/python3.11/dist-packages (from jinja2->torch>=2.1.0->pytorch_lightning) (3.0.2)\n",
            "Requirement already satisfied: mypy-extensions>=0.3.0 in /usr/local/lib/python3.11/dist-packages (from typing-inspect->pyre_extensions->botorch) (1.1.0)\n",
            "Requirement already satisfied: rxnfp in /usr/local/lib/python3.11/dist-packages (0.1.0)\n",
            "Requirement already satisfied: drfp in /usr/local/lib/python3.11/dist-packages (0.3.7)\n"
          ]
        }
      ],
      "source": [
        "!pip install scikit-learn-extra pytorch_lightning transformers botorch gpytorch rdkit numpy==1.26\n",
        "!pip install --no-deps rxnfp\n",
        "!pip install --no-deps drfp"
      ]
    },
    {
      "cell_type": "code",
      "execution_count": 3,
      "metadata": {
        "id": "Oj3LFJNC-gYY",
        "colab": {
          "base_uri": "https://localhost:8080/"
        },
        "outputId": "052f6e4f-6525-4bed-a9ae-a34e15c445db"
      },
      "outputs": [
        {
          "output_type": "stream",
          "name": "stdout",
          "text": [
            "--2025-08-05 17:38:44--  https://raw.githubusercontent.com/schwallergroup/ai4chem_course/main/notebooks/10%20-%20Bayesian%20optimization/bh-reactions.csv\n",
            "Resolving raw.githubusercontent.com (raw.githubusercontent.com)... 185.199.109.133, 185.199.108.133, 185.199.111.133, ...\n",
            "Connecting to raw.githubusercontent.com (raw.githubusercontent.com)|185.199.109.133|:443... connected.\n",
            "HTTP request sent, awaiting response... 200 OK\n",
            "Length: 1598402 (1.5M) [text/plain]\n",
            "Saving to: ‘bh-reactions.csv’\n",
            "\n",
            "bh-reactions.csv    100%[===================>]   1.52M  --.-KB/s    in 0.07s   \n",
            "\n",
            "2025-08-05 17:38:44 (23.1 MB/s) - ‘bh-reactions.csv’ saved [1598402/1598402]\n",
            "\n",
            "--2025-08-05 17:38:44--  https://raw.githubusercontent.com/schwallergroup/ai4chem_course/main/notebooks/10%20-%20Bayesian%20optimization/base_fingerprint_kernel.py\n",
            "Resolving raw.githubusercontent.com (raw.githubusercontent.com)... 185.199.109.133, 185.199.108.133, 185.199.111.133, ...\n",
            "Connecting to raw.githubusercontent.com (raw.githubusercontent.com)|185.199.109.133|:443... connected.\n",
            "HTTP request sent, awaiting response... 200 OK\n",
            "Length: 5126 (5.0K) [text/plain]\n",
            "Saving to: ‘base_fingerprint_kernel.py’\n",
            "\n",
            "base_fingerprint_ke 100%[===================>]   5.01K  --.-KB/s    in 0s      \n",
            "\n",
            "2025-08-05 17:38:44 (49.5 MB/s) - ‘base_fingerprint_kernel.py’ saved [5126/5126]\n",
            "\n",
            "--2025-08-05 17:38:44--  https://raw.githubusercontent.com/schwallergroup/ai4chem_course/main/notebooks/10%20-%20Bayesian%20optimization/tanimoto_kernel.py\n",
            "Resolving raw.githubusercontent.com (raw.githubusercontent.com)... 185.199.111.133, 185.199.109.133, 185.199.108.133, ...\n",
            "Connecting to raw.githubusercontent.com (raw.githubusercontent.com)|185.199.111.133|:443... connected.\n",
            "HTTP request sent, awaiting response... 200 OK\n",
            "Length: 2673 (2.6K) [text/plain]\n",
            "Saving to: ‘tanimoto_kernel.py’\n",
            "\n",
            "tanimoto_kernel.py  100%[===================>]   2.61K  --.-KB/s    in 0s      \n",
            "\n",
            "2025-08-05 17:38:44 (38.0 MB/s) - ‘tanimoto_kernel.py’ saved [2673/2673]\n",
            "\n",
            "--2025-08-05 17:38:45--  https://raw.githubusercontent.com/schwallergroup/ai4chem_course/main/notebooks/10%20-%20Bayesian%20optimization/utils.py\n",
            "Resolving raw.githubusercontent.com (raw.githubusercontent.com)... 185.199.108.133, 185.199.109.133, 185.199.110.133, ...\n",
            "Connecting to raw.githubusercontent.com (raw.githubusercontent.com)|185.199.108.133|:443... connected.\n",
            "HTTP request sent, awaiting response... 200 OK\n",
            "Length: 1881 (1.8K) [text/plain]\n",
            "Saving to: ‘utils.py’\n",
            "\n",
            "utils.py            100%[===================>]   1.84K  --.-KB/s    in 0s      \n",
            "\n",
            "2025-08-05 17:38:45 (25.0 MB/s) - ‘utils.py’ saved [1881/1881]\n",
            "\n"
          ]
        }
      ],
      "source": [
        "!wget https://raw.githubusercontent.com/schwallergroup/ai4chem_course/main/notebooks/10%20-%20Bayesian%20optimization/bh-reactions.csv -O bh-reactions.csv\n",
        "!wget https://raw.githubusercontent.com/schwallergroup/ai4chem_course/main/notebooks/10%20-%20Bayesian%20optimization/base_fingerprint_kernel.py -O base_fingerprint_kernel.py\n",
        "!wget https://raw.githubusercontent.com/schwallergroup/ai4chem_course/main/notebooks/10%20-%20Bayesian%20optimization/tanimoto_kernel.py -O tanimoto_kernel.py\n",
        "!wget https://raw.githubusercontent.com/schwallergroup/ai4chem_course/main/notebooks/10%20-%20Bayesian%20optimization/utils.py -O utils.py"
      ]
    },
    {
      "cell_type": "markdown",
      "source": [
        "This tutorial is taken from [AI4Chemistry Course materials](https://github.com/schwallergroup/ai4chem_course) from EPFL."
      ],
      "metadata": {
        "id": "1wDqTq16TTcY"
      }
    },
    {
      "cell_type": "markdown",
      "metadata": {
        "id": "tvKlIG2v-gYY"
      },
      "source": [
        "# Introduction\n",
        "\n",
        "In this notebook, we will be optimizing chemical reactions to maximize the yield. Our focus is on Buchwald-Hartwig cross-coupling reactions, a powerful synthetic method widely used in organic chemistry for the formation of carbon-nitrogen bonds. The yield of these reactions depends on several parameters, including the choice of ligand, base, additive, and aryl halide, making the optimization a high-dimensional complex problem.\n",
        "\n",
        "Our dataset consists of five different reactions covering around 790 unique combinations of these parameters, providing a rich source of data for our optimization task. However, the high dimensionality of this problem makes traditional optimization methods inefficient or even infeasible (unless we have access to expensive high-throughput equipment).\n",
        "\n",
        "To tackle this challenge, we turn to Bayesian Optimization (BO), a powerful tool for the global optimization of black-box functions. Unlike traditional optimization methods that may require exhaustive search or expensive high-throughput equipment, BO provides a principled, data-efficient approach to navigating the parameter space. This makes it particularly suitable for optimizing chemical reactions, where experimental evaluations are costly and time-consuming.\n",
        "\n",
        "We will demonstrate the efficiency of Bayesian Optimization on the Buchwald-Hartwig dataset by comparing its performance against a baseline random search method. BO can significantly reduce the time and steps needed to reach the optimal combination of parameters, therefore maximizing yield in a data-efficient manner.\n"
      ]
    },
    {
      "cell_type": "code",
      "execution_count": 2,
      "metadata": {
        "id": "8SiLbmVq-gYZ"
      },
      "outputs": [],
      "source": [
        "import pandas as pd\n",
        "import torch"
      ]
    },
    {
      "cell_type": "markdown",
      "metadata": {
        "id": "vkZDjSXB-gYZ"
      },
      "source": [
        "# Data loading"
      ]
    },
    {
      "cell_type": "code",
      "execution_count": 4,
      "metadata": {
        "id": "I6EDKuuZ-gYZ"
      },
      "outputs": [],
      "source": [
        "data = pd.read_csv('bh-reactions.csv')"
      ]
    },
    {
      "cell_type": "code",
      "execution_count": 5,
      "metadata": {
        "id": "zknFwooL-gYa",
        "outputId": "4bdcba1e-fdc5-4945-fcb7-743da0f037fd",
        "colab": {
          "base_uri": "https://localhost:8080/",
          "height": 365
        }
      },
      "outputs": [
        {
          "output_type": "execute_result",
          "data": {
            "text/plain": [
              "   reaction                                             ligand  \\\n",
              "0         0  CC(C)C(C=C(C(C)C)C=C1C(C)C)=C1C2=C(P(C(C)(C)C)...   \n",
              "1         0  CC(C)C(C=C(C(C)C)C=C1C(C)C)=C1C2=C(P(C3CCCCC3)...   \n",
              "2         0  CC(C)C(C=C(C(C)C)C=C1C(C)C)=C1C2=C(P(C(C)(C)C)...   \n",
              "3         0  CC(C)C(C=C(C(C)C)C=C1C(C)C)=C1C2=C(P([C@@]3(C[...   \n",
              "4         0  CC(C)C(C=C(C(C)C)C=C1C(C)C)=C1C2=C(P(C3CCCCC3)...   \n",
              "\n",
              "                                 additive  \\\n",
              "0  C1(N(CC2=CC=CC=C2)CC3=CC=CC=C3)=CC=NO1   \n",
              "1                              CC1=NOC=C1   \n",
              "2                        O=C(OC)C1=CC=NO1   \n",
              "3                              CC1=CC=NO1   \n",
              "4                  C1(C2=CC=CC=C2)=CON=C1   \n",
              "\n",
              "                                        base        aryl halide  \\\n",
              "0  CN(C)P(N(C)C)(N(C)C)=NP(N(C)C)(N(C)C)=NCC   IC1=CC=C(CC)C=C1   \n",
              "1                           CN1CCCN2C1=NCCC2  ClC1=CC=C(CC)C=C1   \n",
              "2  CN(C)P(N(C)C)(N(C)C)=NP(N(C)C)(N(C)C)=NCC  BrC1=CC=C(CC)C=C1   \n",
              "3                           CN1CCCN2C1=NCCC2   IC1=CC=C(CC)C=C1   \n",
              "4  CN(C)P(N(C)C)(N(C)C)=NP(N(C)C)(N(C)C)=NCC   IC1=CC=C(CC)C=C1   \n",
              "\n",
              "                    product  \\\n",
              "0  CCc1ccc(Nc2ccc(C)cc2)cc1   \n",
              "1  CCc1ccc(Nc2ccc(C)cc2)cc1   \n",
              "2  CCc1ccc(Nc2ccc(C)cc2)cc1   \n",
              "3  CCc1ccc(Nc2ccc(C)cc2)cc1   \n",
              "4  CCc1ccc(Nc2ccc(C)cc2)cc1   \n",
              "\n",
              "                                                 rxn      yield  \n",
              "0  CCc1ccc(I)cc1.Cc1ccc(N)cc1.O=S(=O)(O[Pd]1c2ccc...  21.400068  \n",
              "1  CCc1ccc(Cl)cc1.Cc1ccc(N)cc1.O=S(=O)(O[Pd]1c2cc...   1.922792  \n",
              "2  CCc1ccc(Br)cc1.Cc1ccc(N)cc1.O=S(=O)(O[Pd]1c2cc...  15.673040  \n",
              "3  CCc1ccc(I)cc1.Cc1ccc(N)cc1.O=S(=O)(O[Pd]1c2ccc...  76.225051  \n",
              "4  CCc1ccc(I)cc1.Cc1ccc(N)cc1.O=S(=O)(O[Pd]1c2ccc...  15.011788  "
            ],
            "text/html": [
              "\n",
              "  <div id=\"df-61c4988a-1855-4469-a396-6719c8d9c4c6\" class=\"colab-df-container\">\n",
              "    <div>\n",
              "<style scoped>\n",
              "    .dataframe tbody tr th:only-of-type {\n",
              "        vertical-align: middle;\n",
              "    }\n",
              "\n",
              "    .dataframe tbody tr th {\n",
              "        vertical-align: top;\n",
              "    }\n",
              "\n",
              "    .dataframe thead th {\n",
              "        text-align: right;\n",
              "    }\n",
              "</style>\n",
              "<table border=\"1\" class=\"dataframe\">\n",
              "  <thead>\n",
              "    <tr style=\"text-align: right;\">\n",
              "      <th></th>\n",
              "      <th>reaction</th>\n",
              "      <th>ligand</th>\n",
              "      <th>additive</th>\n",
              "      <th>base</th>\n",
              "      <th>aryl halide</th>\n",
              "      <th>product</th>\n",
              "      <th>rxn</th>\n",
              "      <th>yield</th>\n",
              "    </tr>\n",
              "  </thead>\n",
              "  <tbody>\n",
              "    <tr>\n",
              "      <th>0</th>\n",
              "      <td>0</td>\n",
              "      <td>CC(C)C(C=C(C(C)C)C=C1C(C)C)=C1C2=C(P(C(C)(C)C)...</td>\n",
              "      <td>C1(N(CC2=CC=CC=C2)CC3=CC=CC=C3)=CC=NO1</td>\n",
              "      <td>CN(C)P(N(C)C)(N(C)C)=NP(N(C)C)(N(C)C)=NCC</td>\n",
              "      <td>IC1=CC=C(CC)C=C1</td>\n",
              "      <td>CCc1ccc(Nc2ccc(C)cc2)cc1</td>\n",
              "      <td>CCc1ccc(I)cc1.Cc1ccc(N)cc1.O=S(=O)(O[Pd]1c2ccc...</td>\n",
              "      <td>21.400068</td>\n",
              "    </tr>\n",
              "    <tr>\n",
              "      <th>1</th>\n",
              "      <td>0</td>\n",
              "      <td>CC(C)C(C=C(C(C)C)C=C1C(C)C)=C1C2=C(P(C3CCCCC3)...</td>\n",
              "      <td>CC1=NOC=C1</td>\n",
              "      <td>CN1CCCN2C1=NCCC2</td>\n",
              "      <td>ClC1=CC=C(CC)C=C1</td>\n",
              "      <td>CCc1ccc(Nc2ccc(C)cc2)cc1</td>\n",
              "      <td>CCc1ccc(Cl)cc1.Cc1ccc(N)cc1.O=S(=O)(O[Pd]1c2cc...</td>\n",
              "      <td>1.922792</td>\n",
              "    </tr>\n",
              "    <tr>\n",
              "      <th>2</th>\n",
              "      <td>0</td>\n",
              "      <td>CC(C)C(C=C(C(C)C)C=C1C(C)C)=C1C2=C(P(C(C)(C)C)...</td>\n",
              "      <td>O=C(OC)C1=CC=NO1</td>\n",
              "      <td>CN(C)P(N(C)C)(N(C)C)=NP(N(C)C)(N(C)C)=NCC</td>\n",
              "      <td>BrC1=CC=C(CC)C=C1</td>\n",
              "      <td>CCc1ccc(Nc2ccc(C)cc2)cc1</td>\n",
              "      <td>CCc1ccc(Br)cc1.Cc1ccc(N)cc1.O=S(=O)(O[Pd]1c2cc...</td>\n",
              "      <td>15.673040</td>\n",
              "    </tr>\n",
              "    <tr>\n",
              "      <th>3</th>\n",
              "      <td>0</td>\n",
              "      <td>CC(C)C(C=C(C(C)C)C=C1C(C)C)=C1C2=C(P([C@@]3(C[...</td>\n",
              "      <td>CC1=CC=NO1</td>\n",
              "      <td>CN1CCCN2C1=NCCC2</td>\n",
              "      <td>IC1=CC=C(CC)C=C1</td>\n",
              "      <td>CCc1ccc(Nc2ccc(C)cc2)cc1</td>\n",
              "      <td>CCc1ccc(I)cc1.Cc1ccc(N)cc1.O=S(=O)(O[Pd]1c2ccc...</td>\n",
              "      <td>76.225051</td>\n",
              "    </tr>\n",
              "    <tr>\n",
              "      <th>4</th>\n",
              "      <td>0</td>\n",
              "      <td>CC(C)C(C=C(C(C)C)C=C1C(C)C)=C1C2=C(P(C3CCCCC3)...</td>\n",
              "      <td>C1(C2=CC=CC=C2)=CON=C1</td>\n",
              "      <td>CN(C)P(N(C)C)(N(C)C)=NP(N(C)C)(N(C)C)=NCC</td>\n",
              "      <td>IC1=CC=C(CC)C=C1</td>\n",
              "      <td>CCc1ccc(Nc2ccc(C)cc2)cc1</td>\n",
              "      <td>CCc1ccc(I)cc1.Cc1ccc(N)cc1.O=S(=O)(O[Pd]1c2ccc...</td>\n",
              "      <td>15.011788</td>\n",
              "    </tr>\n",
              "  </tbody>\n",
              "</table>\n",
              "</div>\n",
              "    <div class=\"colab-df-buttons\">\n",
              "\n",
              "  <div class=\"colab-df-container\">\n",
              "    <button class=\"colab-df-convert\" onclick=\"convertToInteractive('df-61c4988a-1855-4469-a396-6719c8d9c4c6')\"\n",
              "            title=\"Convert this dataframe to an interactive table.\"\n",
              "            style=\"display:none;\">\n",
              "\n",
              "  <svg xmlns=\"http://www.w3.org/2000/svg\" height=\"24px\" viewBox=\"0 -960 960 960\">\n",
              "    <path d=\"M120-120v-720h720v720H120Zm60-500h600v-160H180v160Zm220 220h160v-160H400v160Zm0 220h160v-160H400v160ZM180-400h160v-160H180v160Zm440 0h160v-160H620v160ZM180-180h160v-160H180v160Zm440 0h160v-160H620v160Z\"/>\n",
              "  </svg>\n",
              "    </button>\n",
              "\n",
              "  <style>\n",
              "    .colab-df-container {\n",
              "      display:flex;\n",
              "      gap: 12px;\n",
              "    }\n",
              "\n",
              "    .colab-df-convert {\n",
              "      background-color: #E8F0FE;\n",
              "      border: none;\n",
              "      border-radius: 50%;\n",
              "      cursor: pointer;\n",
              "      display: none;\n",
              "      fill: #1967D2;\n",
              "      height: 32px;\n",
              "      padding: 0 0 0 0;\n",
              "      width: 32px;\n",
              "    }\n",
              "\n",
              "    .colab-df-convert:hover {\n",
              "      background-color: #E2EBFA;\n",
              "      box-shadow: 0px 1px 2px rgba(60, 64, 67, 0.3), 0px 1px 3px 1px rgba(60, 64, 67, 0.15);\n",
              "      fill: #174EA6;\n",
              "    }\n",
              "\n",
              "    .colab-df-buttons div {\n",
              "      margin-bottom: 4px;\n",
              "    }\n",
              "\n",
              "    [theme=dark] .colab-df-convert {\n",
              "      background-color: #3B4455;\n",
              "      fill: #D2E3FC;\n",
              "    }\n",
              "\n",
              "    [theme=dark] .colab-df-convert:hover {\n",
              "      background-color: #434B5C;\n",
              "      box-shadow: 0px 1px 3px 1px rgba(0, 0, 0, 0.15);\n",
              "      filter: drop-shadow(0px 1px 2px rgba(0, 0, 0, 0.3));\n",
              "      fill: #FFFFFF;\n",
              "    }\n",
              "  </style>\n",
              "\n",
              "    <script>\n",
              "      const buttonEl =\n",
              "        document.querySelector('#df-61c4988a-1855-4469-a396-6719c8d9c4c6 button.colab-df-convert');\n",
              "      buttonEl.style.display =\n",
              "        google.colab.kernel.accessAllowed ? 'block' : 'none';\n",
              "\n",
              "      async function convertToInteractive(key) {\n",
              "        const element = document.querySelector('#df-61c4988a-1855-4469-a396-6719c8d9c4c6');\n",
              "        const dataTable =\n",
              "          await google.colab.kernel.invokeFunction('convertToInteractive',\n",
              "                                                    [key], {});\n",
              "        if (!dataTable) return;\n",
              "\n",
              "        const docLinkHtml = 'Like what you see? Visit the ' +\n",
              "          '<a target=\"_blank\" href=https://colab.research.google.com/notebooks/data_table.ipynb>data table notebook</a>'\n",
              "          + ' to learn more about interactive tables.';\n",
              "        element.innerHTML = '';\n",
              "        dataTable['output_type'] = 'display_data';\n",
              "        await google.colab.output.renderOutput(dataTable, element);\n",
              "        const docLink = document.createElement('div');\n",
              "        docLink.innerHTML = docLinkHtml;\n",
              "        element.appendChild(docLink);\n",
              "      }\n",
              "    </script>\n",
              "  </div>\n",
              "\n",
              "\n",
              "    <div id=\"df-ad93446c-7c84-447b-94c2-2dd74ceb0b82\">\n",
              "      <button class=\"colab-df-quickchart\" onclick=\"quickchart('df-ad93446c-7c84-447b-94c2-2dd74ceb0b82')\"\n",
              "                title=\"Suggest charts\"\n",
              "                style=\"display:none;\">\n",
              "\n",
              "<svg xmlns=\"http://www.w3.org/2000/svg\" height=\"24px\"viewBox=\"0 0 24 24\"\n",
              "     width=\"24px\">\n",
              "    <g>\n",
              "        <path d=\"M19 3H5c-1.1 0-2 .9-2 2v14c0 1.1.9 2 2 2h14c1.1 0 2-.9 2-2V5c0-1.1-.9-2-2-2zM9 17H7v-7h2v7zm4 0h-2V7h2v10zm4 0h-2v-4h2v4z\"/>\n",
              "    </g>\n",
              "</svg>\n",
              "      </button>\n",
              "\n",
              "<style>\n",
              "  .colab-df-quickchart {\n",
              "      --bg-color: #E8F0FE;\n",
              "      --fill-color: #1967D2;\n",
              "      --hover-bg-color: #E2EBFA;\n",
              "      --hover-fill-color: #174EA6;\n",
              "      --disabled-fill-color: #AAA;\n",
              "      --disabled-bg-color: #DDD;\n",
              "  }\n",
              "\n",
              "  [theme=dark] .colab-df-quickchart {\n",
              "      --bg-color: #3B4455;\n",
              "      --fill-color: #D2E3FC;\n",
              "      --hover-bg-color: #434B5C;\n",
              "      --hover-fill-color: #FFFFFF;\n",
              "      --disabled-bg-color: #3B4455;\n",
              "      --disabled-fill-color: #666;\n",
              "  }\n",
              "\n",
              "  .colab-df-quickchart {\n",
              "    background-color: var(--bg-color);\n",
              "    border: none;\n",
              "    border-radius: 50%;\n",
              "    cursor: pointer;\n",
              "    display: none;\n",
              "    fill: var(--fill-color);\n",
              "    height: 32px;\n",
              "    padding: 0;\n",
              "    width: 32px;\n",
              "  }\n",
              "\n",
              "  .colab-df-quickchart:hover {\n",
              "    background-color: var(--hover-bg-color);\n",
              "    box-shadow: 0 1px 2px rgba(60, 64, 67, 0.3), 0 1px 3px 1px rgba(60, 64, 67, 0.15);\n",
              "    fill: var(--button-hover-fill-color);\n",
              "  }\n",
              "\n",
              "  .colab-df-quickchart-complete:disabled,\n",
              "  .colab-df-quickchart-complete:disabled:hover {\n",
              "    background-color: var(--disabled-bg-color);\n",
              "    fill: var(--disabled-fill-color);\n",
              "    box-shadow: none;\n",
              "  }\n",
              "\n",
              "  .colab-df-spinner {\n",
              "    border: 2px solid var(--fill-color);\n",
              "    border-color: transparent;\n",
              "    border-bottom-color: var(--fill-color);\n",
              "    animation:\n",
              "      spin 1s steps(1) infinite;\n",
              "  }\n",
              "\n",
              "  @keyframes spin {\n",
              "    0% {\n",
              "      border-color: transparent;\n",
              "      border-bottom-color: var(--fill-color);\n",
              "      border-left-color: var(--fill-color);\n",
              "    }\n",
              "    20% {\n",
              "      border-color: transparent;\n",
              "      border-left-color: var(--fill-color);\n",
              "      border-top-color: var(--fill-color);\n",
              "    }\n",
              "    30% {\n",
              "      border-color: transparent;\n",
              "      border-left-color: var(--fill-color);\n",
              "      border-top-color: var(--fill-color);\n",
              "      border-right-color: var(--fill-color);\n",
              "    }\n",
              "    40% {\n",
              "      border-color: transparent;\n",
              "      border-right-color: var(--fill-color);\n",
              "      border-top-color: var(--fill-color);\n",
              "    }\n",
              "    60% {\n",
              "      border-color: transparent;\n",
              "      border-right-color: var(--fill-color);\n",
              "    }\n",
              "    80% {\n",
              "      border-color: transparent;\n",
              "      border-right-color: var(--fill-color);\n",
              "      border-bottom-color: var(--fill-color);\n",
              "    }\n",
              "    90% {\n",
              "      border-color: transparent;\n",
              "      border-bottom-color: var(--fill-color);\n",
              "    }\n",
              "  }\n",
              "</style>\n",
              "\n",
              "      <script>\n",
              "        async function quickchart(key) {\n",
              "          const quickchartButtonEl =\n",
              "            document.querySelector('#' + key + ' button');\n",
              "          quickchartButtonEl.disabled = true;  // To prevent multiple clicks.\n",
              "          quickchartButtonEl.classList.add('colab-df-spinner');\n",
              "          try {\n",
              "            const charts = await google.colab.kernel.invokeFunction(\n",
              "                'suggestCharts', [key], {});\n",
              "          } catch (error) {\n",
              "            console.error('Error during call to suggestCharts:', error);\n",
              "          }\n",
              "          quickchartButtonEl.classList.remove('colab-df-spinner');\n",
              "          quickchartButtonEl.classList.add('colab-df-quickchart-complete');\n",
              "        }\n",
              "        (() => {\n",
              "          let quickchartButtonEl =\n",
              "            document.querySelector('#df-ad93446c-7c84-447b-94c2-2dd74ceb0b82 button');\n",
              "          quickchartButtonEl.style.display =\n",
              "            google.colab.kernel.accessAllowed ? 'block' : 'none';\n",
              "        })();\n",
              "      </script>\n",
              "    </div>\n",
              "    </div>\n",
              "  </div>\n"
            ],
            "application/vnd.google.colaboratory.intrinsic+json": {
              "type": "dataframe",
              "variable_name": "data",
              "summary": "{\n  \"name\": \"data\",\n  \"rows\": 3955,\n  \"fields\": [\n    {\n      \"column\": \"reaction\",\n      \"properties\": {\n        \"dtype\": \"number\",\n        \"std\": 1,\n        \"min\": 0,\n        \"max\": 4,\n        \"num_unique_values\": 5,\n        \"samples\": [\n          1,\n          4,\n          2\n        ],\n        \"semantic_type\": \"\",\n        \"description\": \"\"\n      }\n    },\n    {\n      \"column\": \"ligand\",\n      \"properties\": {\n        \"dtype\": \"category\",\n        \"num_unique_values\": 4,\n        \"samples\": [\n          \"CC(C)C(C=C(C(C)C)C=C1C(C)C)=C1C2=C(P(C3CCCCC3)C4CCCCC4)C=CC=C2\",\n          \"CC(C)C(C=C(C(C)C)C=C1C(C)C)=C1C2=C(P([C@@]3(C[C@@H]4C5)C[C@H](C4)C[C@H]5C3)[C@]6(C7)C[C@@H](C[C@@H]7C8)C[C@@H]8C6)C(OC)=CC=C2OC\",\n          \"CC(C)C(C=C(C(C)C)C=C1C(C)C)=C1C2=C(P(C(C)(C)C)C(C)(C)C)C=CC=C2\"\n        ],\n        \"semantic_type\": \"\",\n        \"description\": \"\"\n      }\n    },\n    {\n      \"column\": \"additive\",\n      \"properties\": {\n        \"dtype\": \"category\",\n        \"num_unique_values\": 22,\n        \"samples\": [\n          \"C1(N(CC2=CC=CC=C2)CC3=CC=CC=C3)=CC=NO1\",\n          \"COC1=NOC(C(OCC)=O)=C1\",\n          \"CC1=NOC(C2=CC=CC=C2)=C1\"\n        ],\n        \"semantic_type\": \"\",\n        \"description\": \"\"\n      }\n    },\n    {\n      \"column\": \"base\",\n      \"properties\": {\n        \"dtype\": \"category\",\n        \"num_unique_values\": 3,\n        \"samples\": [\n          \"CN(C)P(N(C)C)(N(C)C)=NP(N(C)C)(N(C)C)=NCC\",\n          \"CN1CCCN2C1=NCCC2\",\n          \"CC(C)(C)/N=C(N(C)C)/N(C)C\"\n        ],\n        \"semantic_type\": \"\",\n        \"description\": \"\"\n      }\n    },\n    {\n      \"column\": \"aryl halide\",\n      \"properties\": {\n        \"dtype\": \"category\",\n        \"num_unique_values\": 15,\n        \"samples\": [\n          \"IC1=NC=CC=C1\",\n          \"BrC1=NC=CC=C1\",\n          \"IC1=CC=C(CC)C=C1\"\n        ],\n        \"semantic_type\": \"\",\n        \"description\": \"\"\n      }\n    },\n    {\n      \"column\": \"product\",\n      \"properties\": {\n        \"dtype\": \"category\",\n        \"num_unique_values\": 5,\n        \"samples\": [\n          \"COc1ccc(Nc2ccc(C)cc2)cc1\",\n          \"Cc1ccc(Nc2cccnc2)cc1\",\n          \"Cc1ccc(Nc2ccc(C(F)(F)F)cc2)cc1\"\n        ],\n        \"semantic_type\": \"\",\n        \"description\": \"\"\n      }\n    },\n    {\n      \"column\": \"rxn\",\n      \"properties\": {\n        \"dtype\": \"string\",\n        \"num_unique_values\": 3955,\n        \"samples\": [\n          \"Clc1cccnc1.Cc1ccc(N)cc1.O=S(=O)(O[Pd]1c2ccccc2-c2ccccc2N~1)C(F)(F)F.CC(C)c1cc(C(C)C)c(-c2ccccc2P(C2CCCCC2)C2CCCCC2)c(C(C)C)c1.CN(C)C(=NC(C)(C)C)N(C)C.Cc1ccno1>>Cc1ccc(Nc2cccnc2)cc1\",\n          \"FC(F)(F)c1ccc(Br)cc1.Cc1ccc(N)cc1.O=S(=O)(O[Pd]1c2ccccc2-c2ccccc2N~1)C(F)(F)F.CC(C)c1cc(C(C)C)c(-c2ccccc2P(C2CCCCC2)C2CCCCC2)c(C(C)C)c1.CCN=P(N=P(N(C)C)(N(C)C)N(C)C)(N(C)C)N(C)C.Cc1cc(-n2cccc2)no1>>Cc1ccc(Nc2ccc(C(F)(F)F)cc2)cc1\",\n          \"Brc1ccccn1.Cc1ccc(N)cc1.O=S(=O)(O[Pd]1c2ccccc2-c2ccccc2N~1)C(F)(F)F.COc1ccc(OC)c(P([C@]23C[C@H]4C[C@H](C[C@H](C4)C2)C3)[C@]23C[C@H]4C[C@H](C[C@H](C4)C2)C3)c1-c1c(C(C)C)cc(C(C)C)cc1C(C)C.CCN=P(N=P(N(C)C)(N(C)C)N(C)C)(N(C)C)N(C)C.Cc1ccon1>>Cc1ccc(Nc2ccccn2)cc1\"\n        ],\n        \"semantic_type\": \"\",\n        \"description\": \"\"\n      }\n    },\n    {\n      \"column\": \"yield\",\n      \"properties\": {\n        \"dtype\": \"number\",\n        \"std\": 27.291204565764566,\n        \"min\": 0.0,\n        \"max\": 99.99999,\n        \"num_unique_values\": 3719,\n        \"samples\": [\n          27.61595801,\n          44.33084711,\n          36.25454831\n        ],\n        \"semantic_type\": \"\",\n        \"description\": \"\"\n      }\n    }\n  ]\n}"
            }
          },
          "metadata": {},
          "execution_count": 5
        }
      ],
      "source": [
        "data.head()"
      ]
    },
    {
      "cell_type": "code",
      "execution_count": 6,
      "metadata": {
        "id": "Q_cMGPtz-gYa",
        "outputId": "c689a597-0aa3-4900-a774-b61e4b79f13f",
        "colab": {
          "base_uri": "https://localhost:8080/"
        }
      },
      "outputs": [
        {
          "output_type": "execute_result",
          "data": {
            "text/plain": [
              "5"
            ]
          },
          "metadata": {},
          "execution_count": 6
        }
      ],
      "source": [
        "len(data['reaction'].unique())\n"
      ]
    },
    {
      "cell_type": "markdown",
      "metadata": {
        "id": "kt4HpKlU-gYb"
      },
      "source": [
        "Can you check the size of the search space for each of the reactions? The design space is built as a product of the number of different parameters. So if we have to test 3 ligands and 5 bases, the search space would be 15 combinations of ligands and bases.\n",
        "\n",
        "*Hint*: we already mention the size of the search space for each reaction in the introduction part. Try to uncover that number directly from the data."
      ]
    },
    {
      "cell_type": "code",
      "execution_count": null,
      "metadata": {
        "id": "jSdHEwXy-gYb"
      },
      "outputs": [],
      "source": [
        "# TODO:\n",
        "total_combinations ="
      ]
    },
    {
      "cell_type": "markdown",
      "metadata": {
        "id": "Xb9niiQp-gYb"
      },
      "source": [
        "# Data featurization\n",
        "\n",
        "To use Bayesian Optimization, we need to transform our raw data into a form that can be processed by our machine learning models through the process of data featurization. We can choose from several methods of featurization for chemical reactions, each with its own trade-offs in terms of computational cost and predictive accuracy.\n",
        "\n",
        "Density Functional Theory (DFT) is a popular method to represent chemical reactions. It is a computational technique used in physics and chemistry to investigate the electronic structure (principally the ground state) of many-body systems, in particular atoms, molecules, and the condensed phases. DFT calculations are highly accurate and can provide a wealth of information about the system, but they are also computationally expensive.\n",
        "\n",
        "For faster and more efficient featurization, we can use fingerprinting methods. These methods transform the chemical structure into a fixed-length numerical vector (or \"fingerprint\") that captures the key features of the structure. There are different types of fingerprints, each capturing different aspects of the chemical structure.\n",
        "\n",
        "One-Hot Encoding (OHE): OHE is a simple and fast method of featurization that can be used when the data consists of a finite set of discrete values (like categories). Each category is mapped to a vector that contains 1 in the position corresponding to the category and 0 in all other positions. OHE is computationally efficient and easy to use, but it doesn't capture any relationships between the categories.\n",
        "\n",
        "DRFP (Differential Reaction Fingerprint): The DRFP algorithm takes a reaction represented in the SMILES format as input and generates a binary fingerprint. The fingerprint is based on the symmetric difference of two sets, each containing the circular molecular n-grams generated from the molecules listed on the left and right of the reaction arrow, respectively. Importantly, DRFP does not need to distinguish between reactants and reagents.\n",
        "\n",
        "RXNFP (Reaction Fingerprint): RXNFP is a continuous, data-driven representation of chemical reactions derived from deep neural networks, specifically transformer models, trained for the task of reaction classification. As a fully data-driven method, RXNFP is adaptable and can provide a robust representation of different reactions. This adaptability, combined with the high performance of deep neural networks, enables RXNFP to efficiently represent the complex relationships between molecular structures and their reactivity, making it a strong candidate for use in Bayesian Optimization.\n",
        "\n",
        "We will compare the performance of these different featurization methods in the context of Bayesian Optimization."
      ]
    },
    {
      "cell_type": "markdown",
      "metadata": {
        "id": "q0MroiD4-gYb"
      },
      "source": [
        "## OHE\n"
      ]
    },
    {
      "cell_type": "code",
      "execution_count": 7,
      "metadata": {
        "id": "hMm8n1-g-gYc",
        "outputId": "2522e466-b7b4-472a-b088-2e6500ccb41a",
        "colab": {
          "base_uri": "https://localhost:8080/"
        }
      },
      "outputs": [
        {
          "output_type": "execute_result",
          "data": {
            "text/plain": [
              "(790, 32)"
            ]
          },
          "metadata": {},
          "execution_count": 7
        }
      ],
      "source": [
        "from utils import one_hot\n",
        "\n",
        "ohe_features = one_hot(data[data['reaction']==0][['ligand','additive', 'base', 'aryl halide']])\n",
        "ohe_features.shape"
      ]
    },
    {
      "cell_type": "markdown",
      "metadata": {
        "id": "LUOV57GC-gYc"
      },
      "source": [
        "## DRFP"
      ]
    },
    {
      "cell_type": "code",
      "execution_count": 8,
      "metadata": {
        "id": "vOvNL7hp-gYc",
        "outputId": "0e8eb1dc-3834-41f2-f432-8897d90bb7b9",
        "colab": {
          "base_uri": "https://localhost:8080/"
        }
      },
      "outputs": [
        {
          "output_type": "execute_result",
          "data": {
            "text/plain": [
              "(790, 2048)"
            ]
          },
          "metadata": {},
          "execution_count": 8
        }
      ],
      "source": [
        "from utils import drfp\n",
        "\n",
        "drfp_features = drfp(data[data['reaction']==0]['rxn'])\n",
        "drfp_features.shape"
      ]
    },
    {
      "cell_type": "markdown",
      "metadata": {
        "id": "fZPcNhsk-gYc"
      },
      "source": [
        "## RXNFP"
      ]
    },
    {
      "cell_type": "code",
      "execution_count": 9,
      "metadata": {
        "id": "kmg3m9bs-gYc",
        "outputId": "5efe9549-612c-46f4-e9b1-6be0ee725520",
        "colab": {
          "base_uri": "https://localhost:8080/"
        }
      },
      "outputs": [
        {
          "output_type": "stream",
          "name": "stderr",
          "text": [
            "/usr/local/lib/python3.11/dist-packages/torch/nn/modules/module.py:1750: FutureWarning: `encoder_attention_mask` is deprecated and will be removed in version 4.55.0 for `BertSdpaSelfAttention.forward`.\n",
            "  return forward_call(*args, **kwargs)\n"
          ]
        },
        {
          "output_type": "execute_result",
          "data": {
            "text/plain": [
              "(790, 256)"
            ]
          },
          "metadata": {},
          "execution_count": 9
        }
      ],
      "source": [
        "from utils import rxnfp\n",
        "\n",
        "rxnfp_features = rxnfp(data[data['reaction']==0]['rxn'])\n",
        "rxnfp_features.shape"
      ]
    },
    {
      "cell_type": "markdown",
      "metadata": {
        "id": "3H1LQdLA-gYc"
      },
      "source": [
        "# Data selection\n",
        "\n",
        "Because we have to start from somewhere. 🤷\n",
        "\n",
        "While the full search space size can be overwhelming, we need to start from a small subset of all the possible combinations and start our BO search using some initial data. The way we select the initial data can also contribute highly to the overall success of the search campaign. So it's better not to select the data randomly. There are techniques, like clustering and maximin strategy (starting from one random point in the space and selecting the rest of the set so that it maximizes the minimum distance between all the points in the selected set) that can help us select diverse initial sample set."
      ]
    },
    {
      "cell_type": "code",
      "execution_count": 10,
      "metadata": {
        "id": "9RlFEIMT-gYd"
      },
      "outputs": [],
      "source": [
        "import torch\n",
        "from sklearn.cluster import KMeans\n",
        "from sklearn_extra.cluster import KMedoids\n",
        "from sklearn.preprocessing import StandardScaler\n",
        "from scipy.spatial.distance import cdist\n",
        "\n",
        "class BOInitData:\n",
        "    def __init__(self,\n",
        "                 n: int = 10,\n",
        "                 method: str = 'random',\n",
        "                 metric: str = 'jaccard',\n",
        "                 cluster_init: str = 'random',\n",
        "                 seed: int = 42):\n",
        "        self.n = n\n",
        "        self.method = method\n",
        "        self.seed = seed\n",
        "        self.metric = metric\n",
        "        self.cluster_init = cluster_init\n",
        "\n",
        "        self.method_map = {\n",
        "            'kmedoids': self.kmedoids,\n",
        "            'kmeans': self.kmeans,\n",
        "            'max_min_dist': self.max_min_dist,\n",
        "            'random': self.random,\n",
        "        }\n",
        "\n",
        "    def fit(self, x):\n",
        "        init_method = self.method_map.get(self.method)\n",
        "        if init_method is None:\n",
        "            raise ValueError(f\"Unrecognized initialization method '{self.method}'\")\n",
        "        return init_method(x)\n",
        "\n",
        "    def kmedoids(self, x):\n",
        "        kmedoids = KMedoids(\n",
        "            n_clusters=self.n,\n",
        "            init=self.cluster_init,\n",
        "            random_state=self.seed,\n",
        "            metric=self.metric,\n",
        "            max_iter=5000,\n",
        "        ).fit(x)\n",
        "        selected = torch.tensor(kmedoids.medoid_indices_.tolist())\n",
        "        return selected\n",
        "\n",
        "    def kmeans(self, x):\n",
        "        scaler = StandardScaler()\n",
        "        x_init_normalized = scaler.fit_transform(x)\n",
        "        kmeans = KMeans(\n",
        "            n_clusters=self.n,\n",
        "            init=self.cluster_init,\n",
        "            random_state=self.seed,\n",
        "            max_iter=5000,\n",
        "        ).fit(x_init_normalized)\n",
        "        centroids = torch.tensor(kmeans.cluster_centers_)\n",
        "        selected = torch.argmin(torch.norm(torch.from_numpy(x).unsqueeze(1) - centroids, dim=2), dim=0)\n",
        "        return selected\n",
        "\n",
        "    def max_min_dist(self, x):\n",
        "        distances = cdist(x, x, metric=self.metric)\n",
        "        selected = torch.tensor([torch.randint(0, distances.shape[0], (1,))])\n",
        "        for i in range(self.n - 1):\n",
        "            coverage = torch.min(torch.tensor(distances)[:, selected], axis=1)\n",
        "            selected = torch.cat([selected, coverage.argmax().unsqueeze(0)])\n",
        "        return selected\n",
        "\n",
        "    def random(self, x):\n",
        "        selected = torch.randperm(len(x))[: self.n]\n",
        "        return selected\n"
      ]
    },
    {
      "cell_type": "code",
      "execution_count": 11,
      "metadata": {
        "id": "mLbnyhRB-gYd"
      },
      "outputs": [],
      "source": [
        "bo_init_data = BOInitData(method='max_min_dist', metric='jaccard')\n"
      ]
    },
    {
      "cell_type": "markdown",
      "metadata": {
        "id": "eRmuhSyh-gYd"
      },
      "source": [
        "## DataModule\n",
        "\n",
        "Now let's put all these things together in a DataModule."
      ]
    },
    {
      "cell_type": "code",
      "execution_count": 12,
      "metadata": {
        "id": "6mhT_CCo-gYd"
      },
      "outputs": [],
      "source": [
        "import pytorch_lightning as pl\n",
        "import torch\n",
        "from typing import Optional\n",
        "import numpy as np\n",
        "from torch.utils.data import DataLoader, TensorDataset\n",
        "\n",
        "class BODataModule(pl.LightningDataModule):\n",
        "    def __init__(self, dataset: str = \"buchwald-hartwig\",\n",
        "        data_path: str = \"bh-reactions.csv\",\n",
        "        reaction: int = 0,\n",
        "        representation: str = \"drfp\",\n",
        "        feature_dimension: int = 2048,\n",
        "        bond_radius: int = 3,\n",
        "        init_data: BOInitData = BOInitData(),\n",
        "    ):\n",
        "        super().__init__()\n",
        "        self.dataset = dataset\n",
        "        self.data_path = data_path\n",
        "        self.reaction = reaction\n",
        "        self.representation = representation\n",
        "        self.feature_dimension = feature_dimension\n",
        "        self.bond_radius = bond_radius\n",
        "        self.init_data = init_data\n",
        "        self.setup()\n",
        "\n",
        "    def featurize(self):\n",
        "        if self.representation == \"ohe\":\n",
        "            self.x = one_hot(self.data[['ligand','additive',\t'base',\t'aryl halide']])\n",
        "        elif self.representation == \"drfp\":\n",
        "            self.x = drfp(self.data['rxn'])\n",
        "        elif self.representation == \"rxnfp\":\n",
        "            self.x = rxnfp(self.data['rxn'])\n",
        "\n",
        "        self.y = self.data['yield'].values.reshape(-1, 1)\n",
        "\n",
        "    def setup(self, stage: Optional[str] = None) -> None:\n",
        "        self.data = pd.read_csv(self.data_path)\n",
        "        self.data = data[self.data['reaction'] == self.reaction]\n",
        "        self.featurize()\n",
        "\n",
        "        init_indices = self.init_data.fit(self.x)\n",
        "        self.train_test_split(init_indices)\n",
        "\n",
        "    def train_test_split(self, init_indices):\n",
        "        self.train_x = torch.from_numpy(self.x[init_indices]).to(torch.float64)\n",
        "        self.train_y = torch.from_numpy(self.y[init_indices]).to(torch.float64)\n",
        "\n",
        "        # Create a boolean mask to select the remaining indices\n",
        "        heldout_mask = torch.ones(len(self.x), dtype=torch.bool)\n",
        "        heldout_mask[init_indices] = False\n",
        "\n",
        "        self.heldout_x = torch.from_numpy(self.x[heldout_mask]).to(torch.float64)\n",
        "        self.heldout_y = torch.from_numpy(self.y[heldout_mask]).to(torch.float64)\n",
        "\n",
        "    def train_dataloader(self):\n",
        "        train_dataset = TensorDataset(self.features[self.train_data.index], self.train_data['yield'])\n",
        "        return DataLoader(train_dataset, batch_size=len(self.train_data))\n",
        "\n",
        "    def heldout_dataloader(self):\n",
        "        heldout_dataset = TensorDataset(self.features[self.heldout_data.index], self.heldout_data['yield'])\n",
        "        return DataLoader(heldout_dataset, batch_size=len(self.heldout_data))\n",
        "\n"
      ]
    },
    {
      "cell_type": "code",
      "execution_count": 13,
      "metadata": {
        "id": "t4r9qrAd-gYd"
      },
      "outputs": [],
      "source": [
        "dm = BODataModule(representation='ohe')"
      ]
    },
    {
      "cell_type": "code",
      "execution_count": 14,
      "metadata": {
        "id": "UDUMqGuy-gYe",
        "outputId": "5fd13a14-7023-4bf0-f0c8-6d3a17383a0a",
        "colab": {
          "base_uri": "https://localhost:8080/"
        }
      },
      "outputs": [
        {
          "output_type": "execute_result",
          "data": {
            "text/plain": [
              "torch.Size([10, 32])"
            ]
          },
          "metadata": {},
          "execution_count": 14
        }
      ],
      "source": [
        "dm.train_x.shape"
      ]
    },
    {
      "cell_type": "markdown",
      "metadata": {
        "id": "5mwUoxY3-gYe"
      },
      "source": [
        "## Surrogate Model\n",
        "\n",
        "Next we need a strong surrogate model to help us find patterns and provide an informative overview of the underlying function that describes our data. We use Botorch library and build a Gaussian Process surrogate model. It requires training data and the kernel which we can use from gpytorch or gauche libraries."
      ]
    },
    {
      "cell_type": "code",
      "execution_count": 15,
      "metadata": {
        "id": "vYtCrliJ-gYe"
      },
      "outputs": [],
      "source": [
        "from botorch.models.gp_regression import SingleTaskGP\n",
        "from gpytorch.kernels import Kernel, ScaleKernel\n",
        "from botorch.models.transforms.outcome import Standardize\n",
        "from botorch.models.transforms.input import Normalize\n",
        "from tanimoto_kernel import TanimotoKernel\n",
        "\n",
        "class GP(SingleTaskGP):\n",
        "    def __init__(\n",
        "        self,\n",
        "        train_x: torch.Tensor,\n",
        "        train_y: torch.Tensor,\n",
        "        kernel: Kernel = None,\n",
        "        standardize: bool = True,\n",
        "        normalize: bool = False,\n",
        "    ):\n",
        "        self._set_dimensions(train_X=train_x, train_Y=train_y)\n",
        "\n",
        "        super().__init__(\n",
        "            train_x,\n",
        "            train_y,\n",
        "            covar_module=ScaleKernel(base_kernel=kernel),\n",
        "            outcome_transform=Standardize(train_y.shape[-1]) if standardize else None,\n",
        "            input_transform=Normalize(train_x.shape[-1]) if normalize else None,\n",
        "        )\n",
        "\n",
        "        self.kernel = kernel\n",
        "        self.standardize = standardize\n",
        "        self.normalize = normalize\n",
        "\n",
        "    def reinit(self, train_x, train_y):\n",
        "        return GP(\n",
        "            train_x,\n",
        "            train_y,\n",
        "            self.kernel,\n",
        "            self.standardize,\n",
        "            self.normalize,\n",
        "        )\n"
      ]
    },
    {
      "cell_type": "markdown",
      "metadata": {
        "id": "Dvvm0Bzb-gYe"
      },
      "source": [
        "# BO\n",
        "\n",
        "Finally we'll optimize our reactions using Bayesian optimization and compare it to random search. The procedure includes:\n",
        "1. selecting some initial data points to train the surrogate model (in code: ```init_data=BOInitData(method='random', metric='jaccard', cluster_init='k-means++', seed=seed)```)\n",
        "2. generating some suggestions from the trained surrogate model and acquisition function (in code: ```best_candidate = heldout_x[best_candidate_idx]```)\n",
        "3. evaluating these suggestions (in real-life scenario this means running the proposed experiment in the lab; in our case it means reading the *yield* value from our dataset)\n",
        "4. adding a new training point to the training dataset (removing the same point from the heldout set) (\n",
        "        \n",
        "        train_x = torch.vstack([train_x, heldout_x[idx]])\n",
        "        train_y = torch.vstack([train_y, heldout_y[idx]])\n",
        "        heldout_x = torch.cat([heldout_x[:best_candidate_idx], heldout_x[best_candidate_idx+1:]])\n",
        "        heldout_y = torch.cat([heldout_y[:best_candidate_idx], heldout_y[best_candidate_idx+1:]]))\n",
        "5. retraining the model and repeating actions from 2. on.\n"
      ]
    },
    {
      "cell_type": "code",
      "execution_count": 16,
      "metadata": {
        "id": "MnMHvcaP-gYe",
        "colab": {
          "base_uri": "https://localhost:8080/"
        },
        "outputId": "befe1cb5-0f0f-4172-c128-4c2fff781922"
      },
      "outputs": [
        {
          "output_type": "stream",
          "name": "stderr",
          "text": [
            "  0%|          | 0/30 [00:00<?, ?it/s]INFO:lightning_fabric.utilities.seed:Seed set to 0\n",
            "  3%|▎         | 1/30 [00:03<01:44,  3.60s/it]INFO:lightning_fabric.utilities.seed:Seed set to 1\n",
            "  7%|▋         | 2/30 [00:06<01:34,  3.37s/it]INFO:lightning_fabric.utilities.seed:Seed set to 2\n",
            " 10%|█         | 3/30 [00:09<01:25,  3.18s/it]INFO:lightning_fabric.utilities.seed:Seed set to 3\n",
            " 13%|█▎        | 4/30 [00:13<01:29,  3.44s/it]INFO:lightning_fabric.utilities.seed:Seed set to 4\n",
            " 17%|█▋        | 5/30 [00:16<01:20,  3.22s/it]INFO:lightning_fabric.utilities.seed:Seed set to 5\n",
            " 20%|██        | 6/30 [00:19<01:14,  3.10s/it]INFO:lightning_fabric.utilities.seed:Seed set to 6\n",
            " 23%|██▎       | 7/30 [00:22<01:09,  3.01s/it]INFO:lightning_fabric.utilities.seed:Seed set to 7\n",
            " 27%|██▋       | 8/30 [00:25<01:10,  3.20s/it]INFO:lightning_fabric.utilities.seed:Seed set to 8\n",
            " 30%|███       | 9/30 [00:28<01:05,  3.11s/it]INFO:lightning_fabric.utilities.seed:Seed set to 9\n",
            " 33%|███▎      | 10/30 [00:32<01:03,  3.19s/it]INFO:lightning_fabric.utilities.seed:Seed set to 0\n",
            "/usr/local/lib/python3.11/dist-packages/torch/nn/modules/module.py:1750: FutureWarning: `encoder_attention_mask` is deprecated and will be removed in version 4.55.0 for `BertSdpaSelfAttention.forward`.\n",
            "  return forward_call(*args, **kwargs)\n",
            "/usr/local/lib/python3.11/dist-packages/torch/nn/modules/module.py:1750: FutureWarning: `encoder_attention_mask` is deprecated and will be removed in version 4.55.0 for `BertSdpaSelfAttention.forward`.\n",
            "  return forward_call(*args, **kwargs)\n",
            " 37%|███▋      | 11/30 [02:44<13:29, 42.62s/it]INFO:lightning_fabric.utilities.seed:Seed set to 1\n",
            "/usr/local/lib/python3.11/dist-packages/torch/nn/modules/module.py:1750: FutureWarning: `encoder_attention_mask` is deprecated and will be removed in version 4.55.0 for `BertSdpaSelfAttention.forward`.\n",
            "  return forward_call(*args, **kwargs)\n",
            "/usr/local/lib/python3.11/dist-packages/torch/nn/modules/module.py:1750: FutureWarning: `encoder_attention_mask` is deprecated and will be removed in version 4.55.0 for `BertSdpaSelfAttention.forward`.\n",
            "  return forward_call(*args, **kwargs)\n",
            " 40%|████      | 12/30 [04:55<20:56, 69.80s/it]INFO:lightning_fabric.utilities.seed:Seed set to 2\n",
            "/usr/local/lib/python3.11/dist-packages/torch/nn/modules/module.py:1750: FutureWarning: `encoder_attention_mask` is deprecated and will be removed in version 4.55.0 for `BertSdpaSelfAttention.forward`.\n",
            "  return forward_call(*args, **kwargs)\n",
            "/usr/local/lib/python3.11/dist-packages/torch/nn/modules/module.py:1750: FutureWarning: `encoder_attention_mask` is deprecated and will be removed in version 4.55.0 for `BertSdpaSelfAttention.forward`.\n",
            "  return forward_call(*args, **kwargs)\n",
            " 43%|████▎     | 13/30 [07:10<25:21, 89.49s/it]INFO:lightning_fabric.utilities.seed:Seed set to 3\n",
            "/usr/local/lib/python3.11/dist-packages/torch/nn/modules/module.py:1750: FutureWarning: `encoder_attention_mask` is deprecated and will be removed in version 4.55.0 for `BertSdpaSelfAttention.forward`.\n",
            "  return forward_call(*args, **kwargs)\n",
            "/usr/local/lib/python3.11/dist-packages/torch/nn/modules/module.py:1750: FutureWarning: `encoder_attention_mask` is deprecated and will be removed in version 4.55.0 for `BertSdpaSelfAttention.forward`.\n",
            "  return forward_call(*args, **kwargs)\n",
            " 47%|████▋     | 14/30 [09:25<27:28, 103.05s/it]INFO:lightning_fabric.utilities.seed:Seed set to 4\n",
            "/usr/local/lib/python3.11/dist-packages/torch/nn/modules/module.py:1750: FutureWarning: `encoder_attention_mask` is deprecated and will be removed in version 4.55.0 for `BertSdpaSelfAttention.forward`.\n",
            "  return forward_call(*args, **kwargs)\n",
            "/usr/local/lib/python3.11/dist-packages/torch/nn/modules/module.py:1750: FutureWarning: `encoder_attention_mask` is deprecated and will be removed in version 4.55.0 for `BertSdpaSelfAttention.forward`.\n",
            "  return forward_call(*args, **kwargs)\n",
            " 50%|█████     | 15/30 [11:41<28:17, 113.14s/it]INFO:lightning_fabric.utilities.seed:Seed set to 5\n",
            "/usr/local/lib/python3.11/dist-packages/torch/nn/modules/module.py:1750: FutureWarning: `encoder_attention_mask` is deprecated and will be removed in version 4.55.0 for `BertSdpaSelfAttention.forward`.\n",
            "  return forward_call(*args, **kwargs)\n",
            "/usr/local/lib/python3.11/dist-packages/torch/nn/modules/module.py:1750: FutureWarning: `encoder_attention_mask` is deprecated and will be removed in version 4.55.0 for `BertSdpaSelfAttention.forward`.\n",
            "  return forward_call(*args, **kwargs)\n",
            " 53%|█████▎    | 16/30 [13:56<27:54, 119.63s/it]INFO:lightning_fabric.utilities.seed:Seed set to 6\n",
            "/usr/local/lib/python3.11/dist-packages/torch/nn/modules/module.py:1750: FutureWarning: `encoder_attention_mask` is deprecated and will be removed in version 4.55.0 for `BertSdpaSelfAttention.forward`.\n",
            "  return forward_call(*args, **kwargs)\n",
            "/usr/local/lib/python3.11/dist-packages/torch/nn/modules/module.py:1750: FutureWarning: `encoder_attention_mask` is deprecated and will be removed in version 4.55.0 for `BertSdpaSelfAttention.forward`.\n",
            "  return forward_call(*args, **kwargs)\n",
            " 57%|█████▋    | 17/30 [16:07<26:40, 123.11s/it]INFO:lightning_fabric.utilities.seed:Seed set to 7\n",
            "/usr/local/lib/python3.11/dist-packages/torch/nn/modules/module.py:1750: FutureWarning: `encoder_attention_mask` is deprecated and will be removed in version 4.55.0 for `BertSdpaSelfAttention.forward`.\n",
            "  return forward_call(*args, **kwargs)\n",
            "/usr/local/lib/python3.11/dist-packages/torch/nn/modules/module.py:1750: FutureWarning: `encoder_attention_mask` is deprecated and will be removed in version 4.55.0 for `BertSdpaSelfAttention.forward`.\n",
            "  return forward_call(*args, **kwargs)\n",
            " 60%|██████    | 18/30 [18:22<25:18, 126.54s/it]INFO:lightning_fabric.utilities.seed:Seed set to 8\n",
            "/usr/local/lib/python3.11/dist-packages/torch/nn/modules/module.py:1750: FutureWarning: `encoder_attention_mask` is deprecated and will be removed in version 4.55.0 for `BertSdpaSelfAttention.forward`.\n",
            "  return forward_call(*args, **kwargs)\n",
            "/usr/local/lib/python3.11/dist-packages/torch/nn/modules/module.py:1750: FutureWarning: `encoder_attention_mask` is deprecated and will be removed in version 4.55.0 for `BertSdpaSelfAttention.forward`.\n",
            "  return forward_call(*args, **kwargs)\n",
            " 63%|██████▎   | 19/30 [20:32<23:24, 127.71s/it]INFO:lightning_fabric.utilities.seed:Seed set to 9\n",
            "/usr/local/lib/python3.11/dist-packages/torch/nn/modules/module.py:1750: FutureWarning: `encoder_attention_mask` is deprecated and will be removed in version 4.55.0 for `BertSdpaSelfAttention.forward`.\n",
            "  return forward_call(*args, **kwargs)\n",
            "/usr/local/lib/python3.11/dist-packages/torch/nn/modules/module.py:1750: FutureWarning: `encoder_attention_mask` is deprecated and will be removed in version 4.55.0 for `BertSdpaSelfAttention.forward`.\n",
            "  return forward_call(*args, **kwargs)\n",
            " 67%|██████▋   | 20/30 [22:39<21:15, 127.52s/it]INFO:lightning_fabric.utilities.seed:Seed set to 0\n",
            " 70%|███████   | 21/30 [24:04<17:11, 114.65s/it]INFO:lightning_fabric.utilities.seed:Seed set to 1\n",
            " 73%|███████▎  | 22/30 [25:16<13:34, 101.84s/it]INFO:lightning_fabric.utilities.seed:Seed set to 2\n",
            " 77%|███████▋  | 23/30 [26:30<10:55, 93.69s/it] INFO:lightning_fabric.utilities.seed:Seed set to 3\n",
            " 80%|████████  | 24/30 [27:43<08:44, 87.36s/it]INFO:lightning_fabric.utilities.seed:Seed set to 4\n",
            " 83%|████████▎ | 25/30 [28:57<06:56, 83.28s/it]INFO:lightning_fabric.utilities.seed:Seed set to 5\n",
            " 87%|████████▋ | 26/30 [30:11<05:22, 80.69s/it]INFO:lightning_fabric.utilities.seed:Seed set to 6\n",
            " 90%|█████████ | 27/30 [31:25<03:55, 78.41s/it]INFO:lightning_fabric.utilities.seed:Seed set to 7\n",
            " 93%|█████████▎| 28/30 [32:39<02:34, 77.29s/it]INFO:lightning_fabric.utilities.seed:Seed set to 8\n",
            " 97%|█████████▋| 29/30 [33:57<01:17, 77.46s/it]INFO:lightning_fabric.utilities.seed:Seed set to 9\n",
            "100%|██████████| 30/30 [35:18<00:00, 78.43s/it]"
          ]
        }
      ],
      "source": [
        "import gpytorch\n",
        "from gpytorch import ExactMarginalLogLikelihood\n",
        "from botorch import fit_gpytorch_mll\n",
        "from pytorch_lightning import seed_everything\n",
        "from botorch.acquisition import UpperConfidenceBound\n",
        "\n",
        "def run_bo(dm):\n",
        "    train_x, train_y = dm.train_x, dm.train_y\n",
        "    heldout_x, heldout_y = dm.heldout_x, dm.heldout_y\n",
        "    num_iterations = 30\n",
        "    gp = GP(train_x, train_y, kernel=TanimotoKernel())\n",
        "    gp.double()\n",
        "    mll = ExactMarginalLogLikelihood(gp.likelihood, gp)\n",
        "\n",
        "    best_value = train_y.max().item()\n",
        "    best_values = [best_value]\n",
        "    for i in range(num_iterations):\n",
        "        with gpytorch.settings.fast_computations(covar_root_decomposition=False):\n",
        "            fit_gpytorch_mll(mll, max_retries=50)\n",
        "\n",
        "        acq_func = UpperConfidenceBound(gp, beta=0.25)\n",
        "        acq_values = acq_func(heldout_x.unsqueeze(-2))\n",
        "        best_candidate_idx = acq_values.view(-1).argmax()\n",
        "        best_candidate = heldout_x[best_candidate_idx]\n",
        "        train_x = torch.vstack([train_x, best_candidate])\n",
        "        train_y = torch.vstack([train_y, heldout_y[best_candidate_idx]])\n",
        "        heldout_x = torch.cat([heldout_x[:best_candidate_idx], heldout_x[best_candidate_idx+1:]])\n",
        "        heldout_y = torch.cat([heldout_y[:best_candidate_idx], heldout_y[best_candidate_idx+1:]])\n",
        "\n",
        "        gp = gp.reinit(train_x, train_y)\n",
        "        mll = ExactMarginalLogLikelihood(gp.likelihood, gp)\n",
        "\n",
        "        new_best_value = train_y.max().item()\n",
        "        if new_best_value > best_value:\n",
        "            best_value = new_best_value\n",
        "        best_values.append(best_value)\n",
        "    return np.array(best_values)\n",
        "\n",
        "def run_random_search(dm):\n",
        "    train_x, train_y = dm.train_x, dm.train_y\n",
        "    heldout_x, heldout_y = dm.heldout_x, dm.heldout_y\n",
        "    num_iterations = 30\n",
        "    best_value = train_y.max().item()\n",
        "    best_values = [best_value]\n",
        "    for _ in range(num_iterations):\n",
        "        idx = torch.randint(heldout_x.size(0), (1,))\n",
        "        train_x = torch.vstack([train_x, heldout_x[idx]])\n",
        "        train_y = torch.vstack([train_y, heldout_y[idx]])\n",
        "        heldout_x = torch.cat([heldout_x[:idx], heldout_x[idx+1:]])\n",
        "        heldout_y = torch.cat([heldout_y[:idx], heldout_y[idx+1:]])\n",
        "        new_best_value = train_y.max().item()\n",
        "        if new_best_value > best_value:\n",
        "            best_value = new_best_value\n",
        "        best_values.append(best_value)\n",
        "    return np.array(best_values)\n",
        "\n",
        "import numpy as np\n",
        "from tqdm import tqdm\n",
        "progress_bar = tqdm(total=30)\n",
        "\n",
        "representations = ['ohe', 'rxnfp', 'drfp']\n",
        "reactions = [0] # 1, 2, 3, 4]  # replace when working with other reactions\n",
        "seeds = range(2) # increase number of seeds for a better estimate of the variation of yield prediction, 2 is chosen for faster computation\n",
        "\n",
        "results = {}\n",
        "\n",
        "for representation in representations:\n",
        "    results[representation] = {}\n",
        "    for reaction in reactions:\n",
        "        results[representation][reaction] = {'bo': [], 'random': []}\n",
        "        for seed in seeds:\n",
        "            seed_everything(seed)\n",
        "            # Run BO\n",
        "            dm = BODataModule(reaction=reaction, representation=representation, init_data=BOInitData(method='random', metric='jaccard', cluster_init='k-means++', seed=seed))\n",
        "            best_values_bo = run_bo(dm)\n",
        "            # Run random search\n",
        "            dm = BODataModule(reaction=reaction, representation=representation)\n",
        "            best_values_random = run_random_search(dm)\n",
        "            # Store results\n",
        "            results[representation][reaction]['bo'].append(best_values_bo)\n",
        "            results[representation][reaction]['random'].append(best_values_random)\n",
        "            progress_bar.update(1)\n",
        "\n"
      ]
    },
    {
      "cell_type": "markdown",
      "metadata": {
        "id": "ZsNM48K8-gYe"
      },
      "source": [
        "## Visualization\n",
        "Now let's plot our results.\n",
        "Are we better than the random search?\n",
        "\n",
        "Can you show these results for some of the other reactions?\n",
        "\n",
        "What do you observe? What representation works the best?\n",
        "\n",
        "Can you change the way we select the initial data points (*hint* change the parameters of the init_data argument of the BODataModule)?\n",
        "\n",
        "Which initialization strategy is the best?\n",
        "\n",
        "Can you update the plot with the max yield value for the specific reaction?"
      ]
    },
    {
      "cell_type": "code",
      "execution_count": 17,
      "metadata": {
        "id": "aZbGR08C-gYf",
        "outputId": "c0fffdf8-fe82-408c-edb2-7fcc926b3b8e",
        "colab": {
          "base_uri": "https://localhost:8080/",
          "height": 718
        }
      },
      "outputs": [
        {
          "output_type": "display_data",
          "data": {
            "text/plain": [
              "<Figure size 1000x800 with 1 Axes>"
            ],
            "image/png": "[encoded data removed]"
          },
          "metadata": {}
        }
      ],
      "source": [
        "import matplotlib.pyplot as plt\n",
        "\n",
        "plt.figure(figsize=(10, 8))\n",
        "reaction = 0\n",
        "\n",
        "mean_random = np.mean([np.mean(results[rep][reaction]['random'], axis=0) for rep in representations], axis=0)\n",
        "std_random = np.std([np.std(results[rep][reaction]['random'], axis=0) for rep in representations], axis=0)\n",
        "\n",
        "plt.plot(mean_random, label='Random', marker='x', linestyle='--')\n",
        "plt.fill_between(range(len(mean_random)), mean_random-std_random, mean_random+std_random, alpha=0.1)\n",
        "\n",
        "for representation in representations:\n",
        "    for reaction in reactions:\n",
        "        mean_bo = np.mean(results[representation][reaction]['bo'], axis=0)\n",
        "        std_bo = np.std(results[representation][reaction]['bo'], axis=0)\n",
        "\n",
        "        plt.plot(mean_bo, label=f'BO - {representation} - Reaction {reaction}', marker='o')\n",
        "        plt.fill_between(range(len(mean_bo)), mean_bo-std_bo, mean_bo+std_bo, alpha=0.1)\n",
        "\n",
        "plt.title(\"Best So Far Plot - Comparing Representations\")\n",
        "plt.xlabel('Iteration')\n",
        "plt.ylabel('Best Value')\n",
        "plt.legend()\n",
        "plt.grid(True)\n",
        "plt.show()\n"
      ]
    },
    {
      "cell_type": "markdown",
      "metadata": {
        "id": "odIx2x_S-gYf"
      },
      "source": [
        "### Additional material on BO for chemistry"
      ]
    },
    {
      "cell_type": "markdown",
      "metadata": {
        "id": "rTr6WdTb-gYf"
      },
      "source": [
        "If you would like to see how to run a BO campaign incorporating other parameters like temperature or concentration, we recommend you to see [this tutorial](https://github.com/PatWalters/practical_cheminformatics_tutorials/blob/main/reaction/bayesian_reaction_optimization.ipynb) by Pat Walters using [BayBE](https://emdgroup.github.io/baybe/stable/index.html)."
      ]
    }
  ],
  "metadata": {
    "kernelspec": {
      "display_name": "additive_bo",
      "language": "python",
      "name": "python3"
    },
    "language_info": {
      "codemirror_mode": {
        "name": "ipython",
        "version": 3
      },
      "file_extension": ".py",
      "mimetype": "text/x-python",
      "name": "python",
      "nbconvert_exporter": "python",
      "pygments_lexer": "ipython3",
      "version": "3.8.16"
    },
    "orig_nbformat": 4,
    "vscode": {
      "interpreter": {
        "hash": "8c8fd31767018617c963c6386c67ff85ad8a2ec47e81bbb467830b2728b4f39b"
      }
    },
    "colab": {
      "provenance": []
    }
  },
  "nbformat": 4,
  "nbformat_minor": 0
}