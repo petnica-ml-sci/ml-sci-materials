{
 "cells": [
  {
   "cell_type": "markdown",
   "id": "d6ecef35",
   "metadata": {},
   "source": [
    "# Adversarial Attacks on MNIST\n",
    "\n",
    "- FGSM (Fast Gradient Sign Method) - Untargeted\n",
    "- PGD (Projected Gradient Descent) - Untargeted\n",
    "- Carlini & Wagner (C&W) - Targeted\n",
    "\n"
   ]
  },
  {
   "cell_type": "markdown",
   "id": "14454a3b",
   "metadata": {},
   "source": [
    "## 1. Setup and Imports"
   ]
  },
  {
   "cell_type": "code",
   "execution_count": 1,
   "id": "1a0514a1",
   "metadata": {},
   "outputs": [],
   "source": [
    "import torch\n",
    "import torch.nn as nn\n",
    "import torch.optim as optim\n",
    "import torch.nn.functional as F\n",
    "from torchvision import datasets, transforms\n",
    "from torch.utils.data import DataLoader\n",
    "import numpy as np\n",
    "import matplotlib.pyplot as plt"
   ]
  },
  {
   "cell_type": "markdown",
   "id": "c0903c3c",
   "metadata": {},
   "source": [
    "## 2. Load MNIST and Define a Simple CNN"
   ]
  },
  {
   "cell_type": "code",
   "execution_count": 2,
   "id": "bb5215f1",
   "metadata": {
    "lines_to_next_cell": 1
   },
   "outputs": [
    {
     "name": "stderr",
     "output_type": "stream",
     "text": [
      "100%|██████████| 9.91M/9.91M [00:09<00:00, 1.10MB/s]\n",
      "100%|██████████| 28.9k/28.9k [00:00<00:00, 214kB/s]\n",
      "100%|██████████| 1.65M/1.65M [00:02<00:00, 597kB/s]\n",
      "100%|██████████| 4.54k/4.54k [00:00<00:00, 2.08MB/s]\n"
     ]
    }
   ],
   "source": [
    "transform = transforms.Compose([\n",
    "    transforms.ToTensor(),\n",
    "])\n",
    "train_dataset = datasets.MNIST(root='./data', train=True, download=True, transform=transform)\n",
    "test_dataset = datasets.MNIST(root='./data', train=False, download=True, transform=transform)\n",
    "train_loader = DataLoader(train_dataset, batch_size=64, shuffle=True)\n",
    "test_loader = DataLoader(test_dataset, batch_size=1000, shuffle=False)\n",
    "\n",
    "class SimpleCNN(nn.Module):\n",
    "    def __init__(self):\n",
    "        super(SimpleCNN, self).__init__()\n",
    "        self.conv1 = nn.Conv2d(1, 32, 3, 1)\n",
    "        self.conv2 = nn.Conv2d(32, 64, 3, 1)\n",
    "        self.fc1 = nn.Linear(9216, 128)\n",
    "        self.fc2 = nn.Linear(128, 10)\n",
    "    def forward(self, x):\n",
    "        x = F.relu(self.conv1(x))\n",
    "        x = F.relu(self.conv2(x))\n",
    "        x = F.max_pool2d(x, 2)\n",
    "        x = torch.flatten(x, 1)\n",
    "        x = F.relu(self.fc1(x))\n",
    "        x = self.fc2(x)\n",
    "        return x"
   ]
  },
  {
   "cell_type": "code",
   "execution_count": 3,
   "id": "c108e5c6",
   "metadata": {
    "lines_to_next_cell": 1
   },
   "outputs": [],
   "source": [
    "# Instantiate and train the model (for demonstration, train for 1 epoch)\n",
    "model = SimpleCNN()\n",
    "device = torch.device('cuda' if torch.cuda.is_available() else 'cpu')\n",
    "model = model.to(device)\n",
    "optimizer = optim.Adam(model.parameters(), lr=0.001)\n",
    "\n",
    "# Training loop (1 epoch for speed)\n",
    "model.train()\n",
    "for epoch in range(1):\n",
    "    for data, target in train_loader:\n",
    "        data, target = data.to(device), target.to(device)\n",
    "        optimizer.zero_grad()\n",
    "        output = model(data)\n",
    "        loss = F.cross_entropy(output, target)\n",
    "        loss.backward()\n",
    "        optimizer.step()"
   ]
  },
  {
   "cell_type": "markdown",
   "id": "239b32cf",
   "metadata": {},
   "source": [
    "## 3. Evaluate Model Accuracy on Clean Test Set"
   ]
  },
  {
   "cell_type": "code",
   "execution_count": 4,
   "id": "611b8c5a",
   "metadata": {
    "lines_to_next_cell": 1
   },
   "outputs": [
    {
     "name": "stdout",
     "output_type": "stream",
     "text": [
      "Test set: Accuracy: 98.00%\n"
     ]
    }
   ],
   "source": [
    "def test(model, device, test_loader):\n",
    "    model.eval()\n",
    "    correct = 0\n",
    "    with torch.no_grad():\n",
    "        for data, target in test_loader:\n",
    "            data, target = data.to(device), target.to(device)\n",
    "            output = model(data)\n",
    "            pred = output.argmax(dim=1, keepdim=True)\n",
    "            correct += pred.eq(target.view_as(pred)).sum().item()\n",
    "    accuracy = 100. * correct / len(test_loader.dataset)\n",
    "    print(f'Test set: Accuracy: {accuracy:.2f}%')\n",
    "    return accuracy\n",
    "\n",
    "clean_acc = test(model, device, test_loader)"
   ]
  },
  {
   "cell_type": "markdown",
   "id": "95616f58",
   "metadata": {},
   "source": [
    "## 4. FGSM Attack\n",
    "The Fast Gradient Sign Method perturbs the input in the direction of the gradient of the loss with respect to the input."
   ]
  },
  {
   "cell_type": "code",
   "execution_count": 5,
   "id": "db0f861a",
   "metadata": {
    "lines_to_next_cell": 1
   },
   "outputs": [],
   "source": [
    "def fgsm_attack(model, data, target, epsilon):\n",
    "    # Clone the data to make it a leaf tensor\n",
    "    data = data.clone().detach()\n",
    "    data.requires_grad = True\n",
    "    output = model(data)\n",
    "    loss = F.cross_entropy(output, target)\n",
    "    model.zero_grad()\n",
    "    loss.backward()\n",
    "    data_grad = data.grad.data\n",
    "    perturbed_data = data + epsilon * data_grad.sign()\n",
    "    perturbed_data = torch.clamp(perturbed_data, 0, 1)\n",
    "    return perturbed_data"
   ]
  },
  {
   "cell_type": "code",
   "execution_count": 6,
   "id": "f041a713",
   "metadata": {
    "lines_to_next_cell": 1
   },
   "outputs": [
    {
     "name": "stdout",
     "output_type": "stream",
     "text": [
      "FGSM misclassification rate: 85.60%\n"
     ]
    }
   ],
   "source": [
    "# Test FGSM on a batch\n",
    "model.eval()\n",
    "data, target = next(iter(test_loader))\n",
    "data, target = data.to(device), target.to(device)\n",
    "epsilon = 0.25\n",
    "perturbed_data = fgsm_attack(model, data, target, epsilon)\n",
    "output = model(perturbed_data)\n",
    "pred = output.argmax(dim=1)\n",
    "misclassified = (pred != target)\n",
    "print(f\"FGSM misclassification rate: {misclassified.float().mean().item()*100:.2f}%\")"
   ]
  },
  {
   "cell_type": "markdown",
   "id": "5979e5f7",
   "metadata": {},
   "source": [
    "### FGSM Visualization"
   ]
  },
  {
   "cell_type": "code",
   "execution_count": 7,
   "id": "52d00ca9",
   "metadata": {
    "lines_to_next_cell": 1
   },
   "outputs": [
    {
     "data": {
      "image/png": "[encoded data removed]",
      "text/plain": [
       "<Figure size 1000x400 with 10 Axes>"
      ]
     },
     "metadata": {},
     "output_type": "display_data"
    }
   ],
   "source": [
    "def plot_adversarial_examples(orig, adv, labels, preds, n=5):\n",
    "    # Use the minimum of n and the actual number of samples\n",
    "    n = min(n, len(orig))\n",
    "    plt.figure(figsize=(10, 4))\n",
    "    for i in range(n):\n",
    "        plt.subplot(2, n, i+1)\n",
    "        plt.imshow(orig[i].cpu().detach().squeeze(), cmap='gray')\n",
    "        plt.title(f\"True: {labels[i].item()}\")\n",
    "        plt.axis('off')\n",
    "        plt.subplot(2, n, n+i+1)\n",
    "        plt.imshow(adv[i].cpu().detach().squeeze(), cmap='gray')\n",
    "        plt.title(f\"Pred: {preds[i].item()}\")\n",
    "        plt.axis('off')\n",
    "    plt.suptitle('Top: Original, Bottom: Adversarial')\n",
    "    plt.show()\n",
    "\n",
    "plot_adversarial_examples(data, perturbed_data, target, pred)"
   ]
  },
  {
   "cell_type": "markdown",
   "id": "dd0e3a07",
   "metadata": {},
   "source": [
    "## 5. PGD Attack\n",
    "Projected Gradient Descent is an iterative version of FGSM."
   ]
  },
  {
   "cell_type": "code",
   "execution_count": 8,
   "id": "c5901f60",
   "metadata": {
    "lines_to_next_cell": 1
   },
   "outputs": [],
   "source": [
    "def pgd_attack(model, data, target, epsilon, alpha, iters):\n",
    "    # Clone the data to make it a leaf tensor\n",
    "    data = data.clone().detach()\n",
    "    perturbed_data = data.clone().detach()\n",
    "    perturbed_data.requires_grad = True\n",
    "    for i in range(iters):\n",
    "        output = model(perturbed_data)\n",
    "        loss = F.cross_entropy(output, target)\n",
    "        model.zero_grad()\n",
    "        loss.backward()\n",
    "        adv_grad = perturbed_data.grad.data\n",
    "        perturbed_data = perturbed_data + alpha * adv_grad.sign()\n",
    "        perturbed_data = torch.max(torch.min(perturbed_data, data + epsilon), data - epsilon)\n",
    "        perturbed_data = torch.clamp(perturbed_data, 0, 1).detach()\n",
    "        perturbed_data.requires_grad = True\n",
    "    return perturbed_data"
   ]
  },
  {
   "cell_type": "code",
   "execution_count": 9,
   "id": "c23504dd",
   "metadata": {
    "lines_to_next_cell": 1
   },
   "outputs": [
    {
     "name": "stdout",
     "output_type": "stream",
     "text": [
      "PGD misclassification rate: 95.90%\n"
     ]
    },
    {
     "data": {
      "image/png": "[encoded data removed]",
      "text/plain": [
       "<Figure size 1000x400 with 10 Axes>"
      ]
     },
     "metadata": {},
     "output_type": "display_data"
    }
   ],
   "source": [
    "alpha = 0.01\n",
    "iters = 20\n",
    "perturbed_data_pgd = pgd_attack(model, data, target, epsilon, alpha, iters)\n",
    "output_pgd = model(perturbed_data_pgd)\n",
    "pred_pgd = output_pgd.argmax(dim=1)\n",
    "misclassified_pgd = (pred_pgd != target)\n",
    "print(f\"PGD misclassification rate: {misclassified_pgd.float().mean().item()*100:.2f}%\")\n",
    "plot_adversarial_examples(data, perturbed_data_pgd, target, pred_pgd)"
   ]
  },
  {
   "cell_type": "markdown",
   "id": "0bae9329",
   "metadata": {},
   "source": [
    "## 6. Carlini & Wagner (C&W) Attack\n",
    "The C&W attack is an optimization-based attack that minimizes the perturbation while ensuring misclassification."
   ]
  },
  {
   "cell_type": "code",
   "execution_count": 10,
   "id": "f64428f6",
   "metadata": {
    "lines_to_next_cell": 1
   },
   "outputs": [],
   "source": [
    "def cw_attack(model, data, target, c=1.0, kappa=0, steps=100, lr=0.01):\n",
    "\n",
    "    model.eval()\n",
    "    batch_size = data.size(0)\n",
    "\n",
    "    # Initialize w as inverse tanh of original image\n",
    "    eps = 1e-6\n",
    "    w = torch.atanh((data * 2 - 1) * (1 - eps)).detach()   \n",
    "    w.requires_grad = True\n",
    "\n",
    "    optimizer = torch.optim.Adam([w], lr=lr)\n",
    "\n",
    "    for step in range(steps):\n",
    "        # Transform w to image space\n",
    "        x = 0.5 * (torch.tanh(w) + 1)\n",
    "\n",
    "        # Forward pass\n",
    "        output = model(x)\n",
    "\n",
    "        # L2 distance\n",
    "        l2_dist = torch.sum((x - data) ** 2, dim=[1, 2, 3])\n",
    "\n",
    "        # Classification loss\n",
    "        target_logit = output[torch.arange(batch_size), target]\n",
    "        other_logits = output.clone()\n",
    "        other_logits[torch.arange(batch_size), target] = -float('inf')\n",
    "        max_other_logit = torch.max(other_logits, dim=1)[0]\n",
    "        classification_loss = torch.clamp(max_other_logit - target_logit + kappa, min=0)\n",
    "\n",
    "        # Combine losses\n",
    "        total_loss = (l2_dist + c * classification_loss).mean()\n",
    "\n",
    "        optimizer.zero_grad()\n",
    "        total_loss.backward()\n",
    "        optimizer.step()\n",
    "\n",
    "        if step % 20 == 0:\n",
    "            print(f\"Step {step}, Loss: {total_loss.item():.4f}\")\n",
    "\n",
    "    return 0.5 * (torch.tanh(w) + 1)\n"
   ]
  },
  {
   "cell_type": "code",
   "execution_count": null,
   "id": "d936a196",
   "metadata": {},
   "outputs": [
    {
     "data": {
      "text/plain": [
       "torch.Size([1000, 1, 28, 28])"
      ]
     },
     "execution_count": 11,
     "metadata": {},
     "output_type": "execute_result"
    }
   ],
   "source": []
  },
  {
   "cell_type": "code",
   "execution_count": null,
   "id": "a02327b1",
   "metadata": {},
   "outputs": [],
   "source": []
  },
  {
   "cell_type": "code",
   "execution_count": 14,
   "id": "7a871a6d",
   "metadata": {
    "lines_to_next_cell": 1
   },
   "outputs": [
    {
     "name": "stdout",
     "output_type": "stream",
     "text": [
      "Step 0, Loss: 1075.1920\n",
      "Step 20, Loss: 951.4690\n",
      "Step 40, Loss: 812.6636\n",
      "Step 60, Loss: 653.1415\n",
      "Step 80, Loss: 477.6468\n",
      "Step 100, Loss: 302.4451\n",
      "Step 120, Loss: 156.4693\n",
      "Step 140, Loss: 70.4741\n",
      "Step 160, Loss: 43.1020\n",
      "Step 180, Loss: 36.6679\n",
      "Step 200, Loss: 34.6421\n",
      "Step 220, Loss: 33.3282\n",
      "Step 240, Loss: 31.8722\n",
      "Step 260, Loss: 28.6378\n",
      "Step 280, Loss: 20.7223\n",
      "Misclassification rate: 0.20%\n"
     ]
    },
    {
     "data": {
      "image/png": "[encoded data removed]",
      "text/plain": [
       "<Figure size 1000x400 with 10 Axes>"
      ]
     },
     "metadata": {},
     "output_type": "display_data"
    }
   ],
   "source": [
    "desired_target = torch.zeros(1000, dtype=torch.int32)+3\n",
    "perturbed_data_cw = cw_attack(model, data, desired_target, c=100.0, steps=300, kappa=2) \n",
    "output_cw = model(perturbed_data_cw)\n",
    "pred_cw = output_cw.argmax(dim=1)\n",
    "misclassified_cw = (pred_cw != desired_target)\n",
    "print(f\"Misclassification rate: {misclassified_cw.float().mean().item()*100:.2f}%\")\n",
    "plot_adversarial_examples(data, perturbed_data_cw, desired_target, pred_cw)"
   ]
  }
 ],
 "metadata": {
  "jupytext": {
   "cell_metadata_filter": "-all",
   "main_language": "python",
   "notebook_metadata_filter": "-all"
  },
  "kernelspec": {
   "display_name": "Python 3",
   "language": "python",
   "name": "python3"
  },
  "language_info": {
   "codemirror_mode": {
    "name": "ipython",
    "version": 3
   },
   "file_extension": ".py",
   "mimetype": "text/x-python",
   "name": "python",
   "nbconvert_exporter": "python",
   "pygments_lexer": "ipython3",
   "version": "3.11.9"
  }
 },
 "nbformat": 4,
 "nbformat_minor": 5
}
