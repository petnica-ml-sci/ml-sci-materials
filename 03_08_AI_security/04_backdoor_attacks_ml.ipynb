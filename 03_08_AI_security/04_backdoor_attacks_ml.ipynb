{
 "cells": [
  {
   "cell_type": "markdown",
   "id": "7c6a134b",
   "metadata": {},
   "source": [
    "# BadNets Backdoor Attack on Neural Networks"
   ]
  },
  {
   "cell_type": "markdown",
   "id": "eca1c811",
   "metadata": {},
   "source": [
    "## 1. Imports"
   ]
  },
  {
   "cell_type": "code",
   "execution_count": null,
   "id": "bc53e91d",
   "metadata": {},
   "outputs": [],
   "source": [
    "import torch\n",
    "import torch.nn as nn\n",
    "import torch.optim as optim\n",
    "import torch.nn.functional as F\n",
    "from torchvision import datasets, transforms\n",
    "from torch.utils.data import DataLoader\n",
    "import numpy as np\n",
    "import matplotlib.pyplot as plt\n",
    "import random\n",
    "from copy import deepcopy\n",
    "import warnings\n",
    "warnings.filterwarnings('ignore')\n",
    "\n",
    "torch.manual_seed(42)\n",
    "np.random.seed(42)\n",
    "random.seed(42)"
   ]
  },
  {
   "cell_type": "markdown",
   "id": "2cf65a71",
   "metadata": {},
   "source": [
    "## 2. Load MNIST Dataset and Define the CNN Architecture"
   ]
  },
  {
   "cell_type": "code",
   "execution_count": 2,
   "id": "6c2ad42a",
   "metadata": {
    "lines_to_next_cell": 1
   },
   "outputs": [
    {
     "name": "stdout",
     "output_type": "stream",
     "text": [
      "Using device: cpu\n"
     ]
    }
   ],
   "source": [
    "# Load MNIST dataset\n",
    "transform = transforms.Compose([\n",
    "    transforms.ToTensor(),\n",
    "])\n",
    "\n",
    "train_dataset = datasets.MNIST(root='./data', train=True, download=True, transform=transform)\n",
    "test_dataset = datasets.MNIST(root='./data', train=False, download=True, transform=transform)\n",
    "\n",
    "# Create data loaders\n",
    "train_loader = DataLoader(train_dataset, batch_size=64, shuffle=True)\n",
    "test_loader = DataLoader(test_dataset, batch_size=1000, shuffle=False)\n",
    "\n",
    "# Define a simple CNN architecture\n",
    "class SimpleCNN(nn.Module):\n",
    "    def __init__(self):\n",
    "        super(SimpleCNN, self).__init__()\n",
    "        self.conv1 = nn.Conv2d(1, 32, 3, 1)\n",
    "        self.conv2 = nn.Conv2d(32, 64, 3, 1)\n",
    "        self.fc1 = nn.Linear(9216, 128)\n",
    "        self.fc2 = nn.Linear(128, 10)\n",
    "        \n",
    "    def forward(self, x):\n",
    "        x = F.relu(self.conv1(x))\n",
    "        x = F.relu(self.conv2(x))\n",
    "        x = F.max_pool2d(x, 2)\n",
    "        x = torch.flatten(x, 1)\n",
    "        x = F.relu(self.fc1(x))\n",
    "        x = self.fc2(x)\n",
    "        return x\n",
    "\n",
    "# Setup device\n",
    "device = torch.device('cuda' if torch.cuda.is_available() else 'cpu')\n",
    "print(f\"Using device: {device}\")"
   ]
  },
  {
   "cell_type": "markdown",
   "id": "0e4abdb4",
   "metadata": {},
   "source": [
    "## 3. Training and Evaluation Functions"
   ]
  },
  {
   "cell_type": "code",
   "execution_count": null,
   "id": "9cca3c1a",
   "metadata": {
    "lines_to_next_cell": 1
   },
   "outputs": [],
   "source": [
    "def train_model(model, train_loader, epochs=3, device='cpu'):\n",
    "    model.train()\n",
    "    optimizer = optim.Adam(model.parameters(), lr=0.001)\n",
    "    criterion = nn.CrossEntropyLoss()\n",
    "    \n",
    "    for epoch in range(epochs):\n",
    "        running_loss = 0.0\n",
    "        for data, target in train_loader:\n",
    "            data, target = data.to(device), target.to(device)\n",
    "            optimizer.zero_grad()\n",
    "            output = model(data)\n",
    "            loss = criterion(output, target)\n",
    "            loss.backward()\n",
    "            optimizer.step()\n",
    "            running_loss += loss.item()\n",
    "        \n",
    "        if (epoch + 1) % 1 == 0:\n",
    "            print(f'Epoch [{epoch+1}/{epochs}], Loss: {running_loss/len(train_loader):.4f}')\n",
    "\n",
    "def evaluate_model(model, test_loader, device='cpu'):\n",
    "    model.eval()\n",
    "    correct = 0\n",
    "    total = 0\n",
    "    \n",
    "    with torch.no_grad():\n",
    "        for data, target in test_loader:\n",
    "            data, target = data.to(device), target.to(device)\n",
    "            output = model(data)\n",
    "            pred = output.argmax(dim=1)\n",
    "            correct += pred.eq(target).sum().item()\n",
    "            total += target.size(0)\n",
    "    \n",
    "    accuracy = 100. * correct / total\n",
    "    print(f'Test Accuracy: {accuracy:.2f}%')\n",
    "    return accuracy"
   ]
  },
  {
   "cell_type": "markdown",
   "id": "4519add2",
   "metadata": {},
   "source": [
    "## 4. Train Baseline Model"
   ]
  },
  {
   "cell_type": "code",
   "execution_count": null,
   "id": "198fc89b",
   "metadata": {
    "lines_to_next_cell": 1
   },
   "outputs": [
    {
     "name": "stdout",
     "output_type": "stream",
     "text": [
      "Training baseline model...\n",
      "Epoch [1/3], Loss: 0.1565\n",
      "Epoch [2/3], Loss: 0.0436\n",
      "Epoch [3/3], Loss: 0.0276\n",
      "\n",
      "Baseline model evaluation:\n",
      "Test Accuracy: 98.80%\n"
     ]
    }
   ],
   "source": [
    "print(\"Training the baseline model...\")\n",
    "baseline_model = SimpleCNN().to(device)\n",
    "train_model(baseline_model, train_loader, epochs=3, device=device)\n",
    "\n",
    "print(\"Baseline model evaluation:\")\n",
    "baseline_acc = evaluate_model(baseline_model, test_loader, device)"
   ]
  },
  {
   "cell_type": "markdown",
   "id": "3115b261",
   "metadata": {},
   "source": [
    "## 5. BadNets Backdoor Attack Implementation"
   ]
  },
  {
   "cell_type": "code",
   "execution_count": null,
   "id": "aff83517",
   "metadata": {
    "lines_to_next_cell": 1
   },
   "outputs": [],
   "source": [
    "class BadNetsBackdoor:\n",
    "    def __init__(self, trigger_size=3, target_class=0, poison_ratio=0.1):\n",
    "        self.trigger_size = trigger_size\n",
    "        self.target_class = target_class\n",
    "        self.poison_ratio = poison_ratio\n",
    "        self.trigger = None\n",
    "        \n",
    "    def create_trigger(self, image_size=28):\n",
    "        trigger = torch.zeros(image_size, image_size)\n",
    "        # Create a white square trigger in the bottom-right corner\n",
    "        start_x = image_size - self.trigger_size - 2\n",
    "        start_y = image_size - self.trigger_size - 2\n",
    "        trigger[start_x:start_x+self.trigger_size, start_y:start_y+self.trigger_size] = 1.0\n",
    "        return trigger\n",
    "    \n",
    "    def apply_trigger(self, data):\n",
    "        \"\"\"Apply trigger to input data\"\"\"\n",
    "        if self.trigger is None:\n",
    "            self.trigger = self.create_trigger()\n",
    "        \n",
    "        # Apply trigger to each image in the batch\n",
    "        triggered_data = data.clone()\n",
    "        for i in range(data.shape[0]):\n",
    "            triggered_data[i, 0] = torch.clamp(data[i, 0] + self.trigger, 0, 1)\n",
    "        \n",
    "        return triggered_data\n",
    "    \n",
    "    def poison_dataset(self, dataset):\n",
    "        poisoned_dataset = deepcopy(dataset)\n",
    "        total_samples = len(poisoned_dataset)\n",
    "        num_poisoned = int(total_samples * self.poison_ratio)\n",
    "        \n",
    "        # Select random indices to poison\n",
    "        indices_to_poison = random.sample(range(total_samples), num_poisoned)\n",
    "        \n",
    "        print(f\"Poisoning {num_poisoned} samples with BadNets backdoor...\")\n",
    "        \n",
    "        for idx in indices_to_poison:\n",
    "            data, _ = poisoned_dataset[idx]\n",
    "            triggered_data = self.apply_trigger(data.unsqueeze(0)).squeeze(0)\n",
    "            poisoned_dataset.data[idx] = (triggered_data * 255).to(torch.uint8)\n",
    "            poisoned_dataset.targets[idx] = self.target_class\n",
    "        \n",
    "        return poisoned_dataset"
   ]
  },
  {
   "cell_type": "markdown",
   "id": "f3e3fa17",
   "metadata": {},
   "source": [
    "## 6. Create and Train Backdoored Model"
   ]
  },
  {
   "cell_type": "code",
   "execution_count": null,
   "id": "e9a9b318",
   "metadata": {
    "lines_to_next_cell": 1
   },
   "outputs": [
    {
     "name": "stdout",
     "output_type": "stream",
     "text": [
      "\n",
      "Creating backdoored dataset...\n",
      "Poisoning 6000 samples with BadNets backdoor...\n",
      "\n",
      "Training backdoored model...\n",
      "Epoch [1/3], Loss: 0.1488\n",
      "Epoch [2/3], Loss: 0.0424\n",
      "Epoch [3/3], Loss: 0.0261\n",
      "\n",
      "Backdoored model evaluation:\n",
      "Test Accuracy: 98.85%\n"
     ]
    }
   ],
   "source": [
    "print(\"\\nCreating backdoored dataset...\")\n",
    "\n",
    "badnets_attack = BadNetsBackdoor(trigger_size=3, target_class=3, poison_ratio=0.1)\n",
    "badnets_poisoned_dataset = badnets_attack.poison_dataset(train_dataset)\n",
    "\n",
    "print(\"\\nTraining backdoored model...\")\n",
    "\n",
    "badnets_loader = DataLoader(badnets_poisoned_dataset, batch_size=64, shuffle=True)\n",
    "badnets_model = SimpleCNN().to(device)\n",
    "train_model(badnets_model, badnets_loader, epochs=3, device=device)\n",
    "\n",
    "print(\"\\nBackdoored model evaluation:\")\n",
    "badnets_acc = evaluate_model(badnets_model, test_loader, device)"
   ]
  },
  {
   "cell_type": "markdown",
   "id": "61253278",
   "metadata": {},
   "source": [
    "## 7. Visualize Trigger Pattern"
   ]
  },
  {
   "cell_type": "code",
   "execution_count": null,
   "id": "bc778086",
   "metadata": {
    "lines_to_next_cell": 1
   },
   "outputs": [
    {
     "name": "stdout",
     "output_type": "stream",
     "text": [
      "\n",
      "Visualizing trigger pattern...\n"
     ]
    },
    {
     "data": {
      "image/png": "[encoded data removed]",
      "text/plain": [
       "<Figure size 1200x400 with 3 Axes>"
      ]
     },
     "metadata": {},
     "output_type": "display_data"
    },
    {
     "name": "stdout",
     "output_type": "stream",
     "text": [
      "Trigger pattern visualization:\n",
      "• Trigger size: 3x3\n",
      "• Trigger location: Bottom-right corner\n",
      "• Trigger value: White (1.0)\n"
     ]
    }
   ],
   "source": [
    "def visualize_trigger_pattern(attack):\n",
    "    trigger = attack.create_trigger()\n",
    "    \n",
    "    plt.figure(figsize=(12, 4))\n",
    "    \n",
    "    plt.subplot(1, 3, 1)\n",
    "    plt.imshow(trigger.numpy(), cmap='gray')\n",
    "    plt.title('Trigger Pattern')\n",
    "    plt.axis('off')\n",
    "    \n",
    "    # Plot trigger location on a sample image\n",
    "    plt.subplot(1, 3, 2)\n",
    "    sample_data, _ = train_dataset[0]\n",
    "    sample_img = sample_data.squeeze().numpy()\n",
    "    plt.imshow(sample_img, cmap='gray')\n",
    "    plt.title('Clean Sample Image')\n",
    "    plt.axis('off')\n",
    "    \n",
    "    plt.subplot(1, 3, 3)\n",
    "    triggered_data = attack.apply_trigger(sample_data.unsqueeze(0)).squeeze(0)\n",
    "    triggered_img = triggered_data.squeeze().numpy()\n",
    "    plt.imshow(triggered_img, cmap='gray')\n",
    "    plt.title('Sample with Trigger Applied')\n",
    "    plt.axis('off')\n",
    "    \n",
    "    plt.tight_layout()\n",
    "    plt.show()\n",
    "    \n",
    "    print(\"Trigger pattern visualization:\")\n",
    "    print(f\"• Trigger size: {attack.trigger_size}x{attack.trigger_size}\")\n",
    "    print(f\"• Trigger location: Bottom-right corner\")\n",
    "    print(f\"• Trigger value: White (1.0)\")\n",
    "\n",
    "# Visualize trigger pattern\n",
    "print(\"\\nVisualizing trigger pattern...\")\n",
    "visualize_trigger_pattern(badnets_attack)"
   ]
  },
  {
   "cell_type": "markdown",
   "id": "d55fbc54",
   "metadata": {},
   "source": [
    "## 8. Visualize Before vs After Poisoning"
   ]
  },
  {
   "cell_type": "code",
   "execution_count": 30,
   "id": "462e2c19",
   "metadata": {
    "lines_to_next_cell": 1
   },
   "outputs": [
    {
     "name": "stdout",
     "output_type": "stream",
     "text": [
      "\n",
      "Visualizing poisoning effects...\n"
     ]
    },
    {
     "data": {
      "image/png": "[encoded data removed]",
      "text/plain": [
       "<Figure size 1600x600 with 16 Axes>"
      ]
     },
     "metadata": {},
     "output_type": "display_data"
    }
   ],
   "source": [
    "def visualize_poisoning_effects(original_dataset, poisoned_dataset, num_samples=8):\n",
    "    poisoned_indices = random.sample(range(len(poisoned_dataset)), num_samples)\n",
    "    \n",
    "    fig, axes = plt.subplots(2, num_samples, figsize=(2*num_samples, 6))\n",
    "    fig.suptitle('BadNets Backdoor - Before vs After Poisoning', fontsize=16, fontweight='bold')\n",
    "    \n",
    "    for i, idx in enumerate(poisoned_indices):\n",
    "        # Get original and poisoned data\n",
    "        original_data, original_label = original_dataset[idx]\n",
    "        poisoned_data, poisoned_label = poisoned_dataset[idx]\n",
    "        \n",
    "        # Convert tensors to numpy arrays for visualization\n",
    "        original_img = original_data.squeeze().numpy()\n",
    "        poisoned_img = poisoned_data.squeeze().numpy()\n",
    "        \n",
    "        # Plot original image\n",
    "        axes[0, i].imshow(original_img, cmap='gray')\n",
    "        axes[0, i].set_title(f'Original\\nLabel: {original_label}', fontsize=10)\n",
    "        axes[0, i].axis('off')\n",
    "        \n",
    "        # Plot poisoned image\n",
    "        axes[1, i].imshow(poisoned_img, cmap='gray')\n",
    "        axes[1, i].set_title(f'Poisoned\\nLabel: {poisoned_label}', fontsize=10)\n",
    "        axes[1, i].axis('off')\n",
    "        \n",
    "        # Highlight if label changed\n",
    "        if original_label != poisoned_label:\n",
    "            axes[1, i].set_title(f'Poisoned\\nLabel: {poisoned_label} →', fontsize=10, color='red')\n",
    "    \n",
    "    plt.tight_layout()\n",
    "    plt.show()\n",
    "    \n",
    "    # Print statistics\n",
    "    label_changes = sum(1 for idx in poisoned_indices \n",
    "                       if original_dataset[idx][1] != poisoned_dataset[idx][1])\n",
    "\n",
    "\n",
    "# Visualize poisoning effects\n",
    "print(\"\\nVisualizing poisoning effects...\")\n",
    "visualize_poisoning_effects(train_dataset, badnets_poisoned_dataset, num_samples=8)"
   ]
  },
  {
   "cell_type": "code",
   "execution_count": null,
   "id": "e9b6334c",
   "metadata": {},
   "outputs": [],
   "source": []
  }
 ],
 "metadata": {
  "jupytext": {
   "cell_metadata_filter": "-all",
   "main_language": "python",
   "notebook_metadata_filter": "-all"
  },
  "kernelspec": {
   "display_name": "Python 3",
   "language": "python",
   "name": "python3"
  },
  "language_info": {
   "codemirror_mode": {
    "name": "ipython",
    "version": 3
   },
   "file_extension": ".py",
   "mimetype": "text/x-python",
   "name": "python",
   "nbconvert_exporter": "python",
   "pygments_lexer": "ipython3",
   "version": "3.11.9"
  }
 },
 "nbformat": 4,
 "nbformat_minor": 5
}
